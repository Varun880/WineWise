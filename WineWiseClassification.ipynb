{
  "nbformat": 4,
  "nbformat_minor": 0,
  "metadata": {
    "colab": {
      "provenance": [],
      "authorship_tag": "ABX9TyOM0o3dJutGGA/Ve2aACcrn",
      "include_colab_link": true
    },
    "kernelspec": {
      "name": "python3",
      "display_name": "Python 3"
    },
    "language_info": {
      "name": "python"
    }
  },
  "cells": [
    {
      "cell_type": "markdown",
      "metadata": {
        "id": "view-in-github",
        "colab_type": "text"
      },
      "source": [
        "<a href=\"https://colab.research.google.com/github/Varun880/WineWise/blob/main/WineWiseClassification.ipynb\" target=\"_parent\"><img src=\"https://colab.research.google.com/assets/colab-badge.svg\" alt=\"Open In Colab\"/></a>"
      ]
    },
    {
      "cell_type": "markdown",
      "source": [
        "## Introduction\n",
        "This notebook uses preprocessed data from Data Preprocessing Notebook to classify wines as 'good' or 'bad' based on 'quality_class'."
      ],
      "metadata": {
        "id": "fH5Ak73CrWdx"
      }
    },
    {
      "cell_type": "code",
      "source": [
        "from google.colab import drive\n",
        "drive.mount('/content/drive')"
      ],
      "metadata": {
        "colab": {
          "base_uri": "https://localhost:8080/"
        },
        "id": "S2CaYRIqulVW",
        "outputId": "f95d261e-d2b3-4f03-f83e-5b406127d5d6"
      },
      "execution_count": 9,
      "outputs": [
        {
          "output_type": "stream",
          "name": "stdout",
          "text": [
            "Drive already mounted at /content/drive; to attempt to forcibly remount, call drive.mount(\"/content/drive\", force_remount=True).\n"
          ]
        }
      ]
    },
    {
      "cell_type": "markdown",
      "source": [
        "Importing Libraries"
      ],
      "metadata": {
        "id": "-a6FXJ0wwxgX"
      }
    },
    {
      "cell_type": "code",
      "execution_count": 10,
      "metadata": {
        "id": "zjou0DqauctS"
      },
      "outputs": [],
      "source": [
        "import numpy as np\n",
        "import pandas as pd\n",
        "import matplotlib.pyplot as plt\n",
        "import seaborn as sns"
      ]
    },
    {
      "cell_type": "markdown",
      "source": [
        "Load Processed Data"
      ],
      "metadata": {
        "id": "8L1oEJWZuumy"
      }
    },
    {
      "cell_type": "code",
      "source": [
        "data_store_location = '/content/drive/MyDrive/ColabNotebooks/Processed/'"
      ],
      "metadata": {
        "id": "pHZPsbwVumCI"
      },
      "execution_count": 11,
      "outputs": []
    },
    {
      "cell_type": "code",
      "source": [
        "X_clf_train_scaled = pd.read_csv(data_store_location+'X_clf_train_scaled.csv')\n",
        "X_clf_test_scaled = pd.read_csv(data_store_location+'X_clf_test_scaled.csv')\n",
        "\n",
        "X_clf_train = pd.read_csv(data_store_location+'X_clf_train.csv')\n",
        "X_clf_test = pd.read_csv(data_store_location+'X_clf_test.csv')\n",
        "\n",
        "y_clf_train = pd.read_csv(data_store_location+'y_clf_train.csv')\n",
        "y_clf_test = pd.read_csv(data_store_location+'y_clf_test.csv')"
      ],
      "metadata": {
        "id": "1jpUvvW1unug"
      },
      "execution_count": 12,
      "outputs": []
    },
    {
      "cell_type": "markdown",
      "source": [
        "Importing evaluation libraries"
      ],
      "metadata": {
        "id": "N5dD_IYVu7Zu"
      }
    },
    {
      "cell_type": "code",
      "source": [
        "from sklearn.model_selection import GridSearchCV  # to find best hyperparameters\n",
        "from sklearn.metrics import classification_report, roc_auc_score # for metrics"
      ],
      "metadata": {
        "id": "bTXjyMWAu8BE"
      },
      "execution_count": 13,
      "outputs": []
    },
    {
      "cell_type": "markdown",
      "source": [
        "Logistic Regression (Classification)"
      ],
      "metadata": {
        "id": "ayqqA_FBxcn3"
      }
    },
    {
      "cell_type": "code",
      "source": [
        "from sklearn.linear_model import LogisticRegression\n",
        "\n",
        "log_reg = LogisticRegression(class_weight='balanced', random_state=1)\n",
        "log_reg.fit(X_clf_train_scaled, y_clf_train)  # training the model\n",
        "y_pred_log = log_reg.predict(X_clf_test_scaled) # Making Predictions\n",
        "\n",
        "# Metrics\n",
        "print('Logistic Regression Classification Report:')\n",
        "print(classification_report(y_clf_test, y_pred_log))\n",
        "print('AUC-ROC:', roc_auc_score(y_clf_test, log_reg.predict_proba(X_clf_test_scaled)[:, 1]))"
      ],
      "metadata": {
        "colab": {
          "base_uri": "https://localhost:8080/"
        },
        "id": "lQ4h_P-ou--D",
        "outputId": "8f7189e8-c180-4b1c-e046-81c714bb0d41"
      },
      "execution_count": 14,
      "outputs": [
        {
          "output_type": "stream",
          "name": "stdout",
          "text": [
            "Logistic Regression Classification Report:\n",
            "              precision    recall  f1-score   support\n",
            "\n",
            "           0       0.90      0.69      0.78       753\n",
            "           1       0.42      0.76      0.54       227\n",
            "\n",
            "    accuracy                           0.70       980\n",
            "   macro avg       0.66      0.72      0.66       980\n",
            "weighted avg       0.79      0.70      0.73       980\n",
            "\n",
            "AUC-ROC: 0.7943848687482084\n"
          ]
        },
        {
          "output_type": "stream",
          "name": "stderr",
          "text": [
            "/usr/local/lib/python3.11/dist-packages/sklearn/utils/validation.py:1408: DataConversionWarning: A column-vector y was passed when a 1d array was expected. Please change the shape of y to (n_samples, ), for example using ravel().\n",
            "  y = column_or_1d(y, warn=True)\n"
          ]
        }
      ]
    },
    {
      "cell_type": "markdown",
      "source": [
        "Random Forest"
      ],
      "metadata": {
        "id": "uZMkSAkDxlKl"
      }
    },
    {
      "cell_type": "code",
      "source": [
        "from sklearn.ensemble import RandomForestClassifier\n",
        "\n",
        "rf_class = RandomForestClassifier(class_weight='balanced', random_state=1)\n",
        "param_grid_rf = {'n_estimators': [100, 200], 'max_depth': [10, 20, None]} # parameter options\n",
        "grid_rf_class = GridSearchCV(rf_class, param_grid_rf, cv=5, scoring='f1', n_jobs=-1)\n",
        "grid_rf_class.fit(X_clf_train_scaled, y_clf_train)  # training the model\n",
        "\n",
        "best_rf_class = grid_rf_class.best_estimator_\n",
        "y_pred_rf_class = best_rf_class.predict(X_clf_test_scaled)  # Making Predictions\n",
        "\n",
        "# metrics\n",
        "print('Random Forest Classifier:')\n",
        "print(f'Best Parameters: {grid_rf_class.best_params_}')\n",
        "print(classification_report(y_clf_test, y_pred_rf_class))\n",
        "print('AUC-ROC:', roc_auc_score(y_clf_test, best_rf_class.predict_proba(X_clf_test_scaled)[:, 1]))"
      ],
      "metadata": {
        "colab": {
          "base_uri": "https://localhost:8080/"
        },
        "id": "aB0qhwtfvB1N",
        "outputId": "ffc34320-87ef-4459-84ee-00b8719015a5"
      },
      "execution_count": 15,
      "outputs": [
        {
          "output_type": "stream",
          "name": "stderr",
          "text": [
            "/usr/local/lib/python3.11/dist-packages/sklearn/base.py:1389: DataConversionWarning: A column-vector y was passed when a 1d array was expected. Please change the shape of y to (n_samples,), for example using ravel().\n",
            "  return fit_method(estimator, *args, **kwargs)\n"
          ]
        },
        {
          "output_type": "stream",
          "name": "stdout",
          "text": [
            "Random Forest Classifier:\n",
            "Best Parameters: {'max_depth': 10, 'n_estimators': 200}\n",
            "              precision    recall  f1-score   support\n",
            "\n",
            "           0       0.93      0.88      0.90       753\n",
            "           1       0.66      0.79      0.72       227\n",
            "\n",
            "    accuracy                           0.86       980\n",
            "   macro avg       0.80      0.83      0.81       980\n",
            "weighted avg       0.87      0.86      0.86       980\n",
            "\n",
            "AUC-ROC: 0.9061024623971077\n"
          ]
        }
      ]
    },
    {
      "cell_type": "markdown",
      "source": [
        "Support Vectore Machine (Classification)"
      ],
      "metadata": {
        "id": "tHNT-BgaxpG-"
      }
    },
    {
      "cell_type": "code",
      "source": [
        "from sklearn.svm import SVC\n",
        "\n",
        "svc = SVC(class_weight='balanced', probability=True, random_state=1)\n",
        "param_grid_svc = {'C': [0.1, 1, 10], 'kernel': ['rbf', 'linear']} # parameter options\n",
        "grid_svc = GridSearchCV(svc, param_grid_svc, cv=5, scoring='f1', n_jobs=-1)\n",
        "grid_svc.fit(X_clf_train_scaled, y_clf_train)  # training the model\n",
        "\n",
        "best_svc = grid_svc.best_estimator_\n",
        "y_pred_svc = best_svc.predict(X_clf_test_scaled)  # making predictions\n",
        "\n",
        "# metrics\n",
        "print('Support Vector Classification (SVC):')\n",
        "print(f'Best Parameters: {grid_svc.best_params_}')\n",
        "print(classification_report(y_clf_test, y_pred_svc))\n",
        "print('AUC-ROC:', roc_auc_score(y_clf_test, best_svc.predict_proba(X_clf_test_scaled)[:, 1]))"
      ],
      "metadata": {
        "colab": {
          "base_uri": "https://localhost:8080/"
        },
        "id": "IFfGXyVHvDm_",
        "outputId": "78e9af78-4c52-422a-ed65-42a9cefcd268"
      },
      "execution_count": 16,
      "outputs": [
        {
          "output_type": "stream",
          "name": "stderr",
          "text": [
            "/usr/local/lib/python3.11/dist-packages/sklearn/utils/validation.py:1408: DataConversionWarning: A column-vector y was passed when a 1d array was expected. Please change the shape of y to (n_samples, ), for example using ravel().\n",
            "  y = column_or_1d(y, warn=True)\n"
          ]
        },
        {
          "output_type": "stream",
          "name": "stdout",
          "text": [
            "Support Vector Classification (SVC):\n",
            "Best Parameters: {'C': 10, 'kernel': 'rbf'}\n",
            "              precision    recall  f1-score   support\n",
            "\n",
            "           0       0.94      0.76      0.84       753\n",
            "           1       0.52      0.83      0.64       227\n",
            "\n",
            "    accuracy                           0.78       980\n",
            "   macro avg       0.73      0.80      0.74       980\n",
            "weighted avg       0.84      0.78      0.79       980\n",
            "\n",
            "AUC-ROC: 0.8647465936547495\n"
          ]
        }
      ]
    },
    {
      "cell_type": "markdown",
      "source": [
        "Naive Bayes"
      ],
      "metadata": {
        "id": "EffscrIS0OcP"
      }
    },
    {
      "cell_type": "code",
      "source": [
        "from sklearn.naive_bayes import GaussianNB\n",
        "gauss_nb = GaussianNB()\n",
        "gauss_nb.fit(X_clf_train_scaled, y_clf_train) # training the model\n",
        "\n",
        "y_pred_nb = gauss_nb.predict(X_clf_test_scaled) # Making Predictions\n",
        "\n",
        "# Metrics\n",
        "print('Naive Bayes Classification Report:')\n",
        "print(classification_report(y_clf_test, y_pred_nb))\n",
        "print(f\"AUC-ROC: {roc_auc_score(y_clf_test, gauss_nb.predict_proba(X_clf_test_scaled)[:, 1]):.3f}\")"
      ],
      "metadata": {
        "colab": {
          "base_uri": "https://localhost:8080/"
        },
        "id": "V8i7v9JjPnpX",
        "outputId": "a9646e3b-3ce3-47fb-da30-1784f027bc85"
      },
      "execution_count": 17,
      "outputs": [
        {
          "output_type": "stream",
          "name": "stdout",
          "text": [
            "Naive Bayes Classification Report:\n",
            "              precision    recall  f1-score   support\n",
            "\n",
            "           0       0.89      0.72      0.79       753\n",
            "           1       0.43      0.70      0.53       227\n",
            "\n",
            "    accuracy                           0.71       980\n",
            "   macro avg       0.66      0.71      0.66       980\n",
            "weighted avg       0.78      0.71      0.73       980\n",
            "\n",
            "AUC-ROC: 0.771\n"
          ]
        },
        {
          "output_type": "stream",
          "name": "stderr",
          "text": [
            "/usr/local/lib/python3.11/dist-packages/sklearn/utils/validation.py:1408: DataConversionWarning: A column-vector y was passed when a 1d array was expected. Please change the shape of y to (n_samples, ), for example using ravel().\n",
            "  y = column_or_1d(y, warn=True)\n"
          ]
        }
      ]
    },
    {
      "cell_type": "markdown",
      "source": [
        "Decision Tree"
      ],
      "metadata": {
        "id": "W8LWjLXP0UMY"
      }
    },
    {
      "cell_type": "code",
      "source": [
        "from sklearn.tree import DecisionTreeClassifier\n",
        "\n",
        "dtree_model = DecisionTreeClassifier(class_weight='balanced', random_state=1)\n",
        "dtree_model.fit(X_clf_train_scaled, y_clf_train)  # training the model\n",
        "\n",
        "y_pred_dt = dtree_model.predict(X_clf_test_scaled)  # making predictions\n",
        "\n",
        "# Metrics\n",
        "print(\"Decision Tree Classification Report:\")\n",
        "print(classification_report(y_clf_test, y_pred_dt))\n",
        "print(f\"AUC-ROC: {roc_auc_score(y_clf_test, dtree_model.predict_proba(X_clf_test_scaled)[:, 1]):.4f}\")"
      ],
      "metadata": {
        "colab": {
          "base_uri": "https://localhost:8080/"
        },
        "id": "l8Ij0Jf5Qy7l",
        "outputId": "fc5161ae-bc66-4c5c-cee2-16d720fffc2e"
      },
      "execution_count": 18,
      "outputs": [
        {
          "output_type": "stream",
          "name": "stdout",
          "text": [
            "Decision Tree Classification Report:\n",
            "              precision    recall  f1-score   support\n",
            "\n",
            "           0       0.90      0.88      0.89       753\n",
            "           1       0.62      0.66      0.64       227\n",
            "\n",
            "    accuracy                           0.83       980\n",
            "   macro avg       0.76      0.77      0.77       980\n",
            "weighted avg       0.83      0.83      0.83       980\n",
            "\n",
            "AUC-ROC: 0.7706\n"
          ]
        }
      ]
    },
    {
      "cell_type": "markdown",
      "source": [
        "Artificial Neural Network"
      ],
      "metadata": {
        "id": "gIq8Ozsq0WHE"
      }
    },
    {
      "cell_type": "code",
      "source": [
        "# Importing Libraries\n",
        "import tensorflow as tf\n",
        "from tensorflow.keras.models import Sequential\n",
        "from tensorflow.keras.layers import Dense, Dropout\n",
        "\n",
        "# Building ANN\n",
        "ann_model = Sequential()\n",
        "ann_model.add(Dense(64, activation='relu', input_shape=(X_clf_train_scaled.shape[1],))) # Input Layer and first Hidden Layer\n",
        "ann_model.add(Dropout(0.2))\n",
        "ann_model.add(Dense(32, activation='relu')) # Second Input Layer\n",
        "ann_model.add(Dense(1, activation='sigmoid')) # Output Layer\n",
        "\n",
        "# Training ANN\n",
        "ann_model.compile(optimizer='adam', loss='binary_crossentropy', metrics=['accuracy'])\n",
        "ann_model.fit(X_clf_train_scaled, y_clf_train,\n",
        "                    epochs=100,\n",
        "                    batch_size=32,\n",
        "                    validation_data=(X_clf_test_scaled, y_clf_test),\n",
        "                    verbose=1)\n",
        "\n",
        "y_pred_ann = ann_model.predict(X_clf_test_scaled) # Making Predictions\n",
        "y_pred_ann = (y_pred_ann > 0.5).astype(int)\n",
        "\n",
        "# Metrics\n",
        "print(\"ANN Classification Report:\")\n",
        "print(classification_report(y_clf_test, y_pred_ann))\n",
        "print(f\"AUC-ROC: {roc_auc_score(y_clf_test, y_pred_ann):.3f}\")"
      ],
      "metadata": {
        "colab": {
          "base_uri": "https://localhost:8080/"
        },
        "id": "DGItDYWKSI8T",
        "outputId": "0322415b-c953-431f-9667-5b04b31696d8"
      },
      "execution_count": 19,
      "outputs": [
        {
          "output_type": "stream",
          "name": "stdout",
          "text": [
            "Epoch 1/100\n"
          ]
        },
        {
          "output_type": "stream",
          "name": "stderr",
          "text": [
            "/usr/local/lib/python3.11/dist-packages/keras/src/layers/core/dense.py:87: UserWarning: Do not pass an `input_shape`/`input_dim` argument to a layer. When using Sequential models, prefer using an `Input(shape)` object as the first layer in the model instead.\n",
            "  super().__init__(activity_regularizer=activity_regularizer, **kwargs)\n"
          ]
        },
        {
          "output_type": "stream",
          "name": "stdout",
          "text": [
            "\u001b[1m123/123\u001b[0m \u001b[32m━━━━━━━━━━━━━━━━━━━━\u001b[0m\u001b[37m\u001b[0m \u001b[1m2s\u001b[0m 7ms/step - accuracy: 0.7321 - loss: 0.5579 - val_accuracy: 0.7878 - val_loss: 0.4502\n",
            "Epoch 2/100\n",
            "\u001b[1m123/123\u001b[0m \u001b[32m━━━━━━━━━━━━━━━━━━━━\u001b[0m\u001b[37m\u001b[0m \u001b[1m1s\u001b[0m 4ms/step - accuracy: 0.8097 - loss: 0.4134 - val_accuracy: 0.7990 - val_loss: 0.4220\n",
            "Epoch 3/100\n",
            "\u001b[1m123/123\u001b[0m \u001b[32m━━━━━━━━━━━━━━━━━━━━\u001b[0m\u001b[37m\u001b[0m \u001b[1m1s\u001b[0m 5ms/step - accuracy: 0.8164 - loss: 0.3968 - val_accuracy: 0.7949 - val_loss: 0.4149\n",
            "Epoch 4/100\n",
            "\u001b[1m123/123\u001b[0m \u001b[32m━━━━━━━━━━━━━━━━━━━━\u001b[0m\u001b[37m\u001b[0m \u001b[1m1s\u001b[0m 4ms/step - accuracy: 0.8219 - loss: 0.3969 - val_accuracy: 0.7959 - val_loss: 0.4097\n",
            "Epoch 5/100\n",
            "\u001b[1m123/123\u001b[0m \u001b[32m━━━━━━━━━━━━━━━━━━━━\u001b[0m\u001b[37m\u001b[0m \u001b[1m1s\u001b[0m 3ms/step - accuracy: 0.8224 - loss: 0.3795 - val_accuracy: 0.8051 - val_loss: 0.3999\n",
            "Epoch 6/100\n",
            "\u001b[1m123/123\u001b[0m \u001b[32m━━━━━━━━━━━━━━━━━━━━\u001b[0m\u001b[37m\u001b[0m \u001b[1m1s\u001b[0m 3ms/step - accuracy: 0.8291 - loss: 0.3639 - val_accuracy: 0.8122 - val_loss: 0.3996\n",
            "Epoch 7/100\n",
            "\u001b[1m123/123\u001b[0m \u001b[32m━━━━━━━━━━━━━━━━━━━━\u001b[0m\u001b[37m\u001b[0m \u001b[1m1s\u001b[0m 3ms/step - accuracy: 0.8268 - loss: 0.3672 - val_accuracy: 0.8112 - val_loss: 0.3930\n",
            "Epoch 8/100\n",
            "\u001b[1m123/123\u001b[0m \u001b[32m━━━━━━━━━━━━━━━━━━━━\u001b[0m\u001b[37m\u001b[0m \u001b[1m1s\u001b[0m 4ms/step - accuracy: 0.8285 - loss: 0.3722 - val_accuracy: 0.8143 - val_loss: 0.3918\n",
            "Epoch 9/100\n",
            "\u001b[1m123/123\u001b[0m \u001b[32m━━━━━━━━━━━━━━━━━━━━\u001b[0m\u001b[37m\u001b[0m \u001b[1m1s\u001b[0m 3ms/step - accuracy: 0.8307 - loss: 0.3578 - val_accuracy: 0.8153 - val_loss: 0.3906\n",
            "Epoch 10/100\n",
            "\u001b[1m123/123\u001b[0m \u001b[32m━━━━━━━━━━━━━━━━━━━━\u001b[0m\u001b[37m\u001b[0m \u001b[1m0s\u001b[0m 3ms/step - accuracy: 0.8226 - loss: 0.3578 - val_accuracy: 0.8112 - val_loss: 0.3897\n",
            "Epoch 11/100\n",
            "\u001b[1m123/123\u001b[0m \u001b[32m━━━━━━━━━━━━━━━━━━━━\u001b[0m\u001b[37m\u001b[0m \u001b[1m1s\u001b[0m 3ms/step - accuracy: 0.8247 - loss: 0.3610 - val_accuracy: 0.8214 - val_loss: 0.3950\n",
            "Epoch 12/100\n",
            "\u001b[1m123/123\u001b[0m \u001b[32m━━━━━━━━━━━━━━━━━━━━\u001b[0m\u001b[37m\u001b[0m \u001b[1m0s\u001b[0m 3ms/step - accuracy: 0.8319 - loss: 0.3511 - val_accuracy: 0.8133 - val_loss: 0.3924\n",
            "Epoch 13/100\n",
            "\u001b[1m123/123\u001b[0m \u001b[32m━━━━━━━━━━━━━━━━━━━━\u001b[0m\u001b[37m\u001b[0m \u001b[1m0s\u001b[0m 3ms/step - accuracy: 0.8306 - loss: 0.3549 - val_accuracy: 0.8112 - val_loss: 0.3869\n",
            "Epoch 14/100\n",
            "\u001b[1m123/123\u001b[0m \u001b[32m━━━━━━━━━━━━━━━━━━━━\u001b[0m\u001b[37m\u001b[0m \u001b[1m1s\u001b[0m 3ms/step - accuracy: 0.8321 - loss: 0.3485 - val_accuracy: 0.8194 - val_loss: 0.3868\n",
            "Epoch 15/100\n",
            "\u001b[1m123/123\u001b[0m \u001b[32m━━━━━━━━━━━━━━━━━━━━\u001b[0m\u001b[37m\u001b[0m \u001b[1m1s\u001b[0m 3ms/step - accuracy: 0.8338 - loss: 0.3485 - val_accuracy: 0.8204 - val_loss: 0.3835\n",
            "Epoch 16/100\n",
            "\u001b[1m123/123\u001b[0m \u001b[32m━━━━━━━━━━━━━━━━━━━━\u001b[0m\u001b[37m\u001b[0m \u001b[1m1s\u001b[0m 3ms/step - accuracy: 0.8359 - loss: 0.3611 - val_accuracy: 0.8122 - val_loss: 0.3870\n",
            "Epoch 17/100\n",
            "\u001b[1m123/123\u001b[0m \u001b[32m━━━━━━━━━━━━━━━━━━━━\u001b[0m\u001b[37m\u001b[0m \u001b[1m0s\u001b[0m 4ms/step - accuracy: 0.8298 - loss: 0.3463 - val_accuracy: 0.8133 - val_loss: 0.3836\n",
            "Epoch 18/100\n",
            "\u001b[1m123/123\u001b[0m \u001b[32m━━━━━━━━━━━━━━━━━━━━\u001b[0m\u001b[37m\u001b[0m \u001b[1m1s\u001b[0m 3ms/step - accuracy: 0.8324 - loss: 0.3532 - val_accuracy: 0.8214 - val_loss: 0.3808\n",
            "Epoch 19/100\n",
            "\u001b[1m123/123\u001b[0m \u001b[32m━━━━━━━━━━━━━━━━━━━━\u001b[0m\u001b[37m\u001b[0m \u001b[1m0s\u001b[0m 3ms/step - accuracy: 0.8343 - loss: 0.3482 - val_accuracy: 0.8184 - val_loss: 0.3864\n",
            "Epoch 20/100\n",
            "\u001b[1m123/123\u001b[0m \u001b[32m━━━━━━━━━━━━━━━━━━━━\u001b[0m\u001b[37m\u001b[0m \u001b[1m1s\u001b[0m 3ms/step - accuracy: 0.8442 - loss: 0.3346 - val_accuracy: 0.8235 - val_loss: 0.3829\n",
            "Epoch 21/100\n",
            "\u001b[1m123/123\u001b[0m \u001b[32m━━━━━━━━━━━━━━━━━━━━\u001b[0m\u001b[37m\u001b[0m \u001b[1m1s\u001b[0m 4ms/step - accuracy: 0.8383 - loss: 0.3436 - val_accuracy: 0.8143 - val_loss: 0.3833\n",
            "Epoch 22/100\n",
            "\u001b[1m123/123\u001b[0m \u001b[32m━━━━━━━━━━━━━━━━━━━━\u001b[0m\u001b[37m\u001b[0m \u001b[1m1s\u001b[0m 5ms/step - accuracy: 0.8382 - loss: 0.3407 - val_accuracy: 0.8153 - val_loss: 0.3842\n",
            "Epoch 23/100\n",
            "\u001b[1m123/123\u001b[0m \u001b[32m━━━━━━━━━━━━━━━━━━━━\u001b[0m\u001b[37m\u001b[0m \u001b[1m1s\u001b[0m 4ms/step - accuracy: 0.8316 - loss: 0.3493 - val_accuracy: 0.8214 - val_loss: 0.3830\n",
            "Epoch 24/100\n",
            "\u001b[1m123/123\u001b[0m \u001b[32m━━━━━━━━━━━━━━━━━━━━\u001b[0m\u001b[37m\u001b[0m \u001b[1m1s\u001b[0m 5ms/step - accuracy: 0.8403 - loss: 0.3413 - val_accuracy: 0.8224 - val_loss: 0.3831\n",
            "Epoch 25/100\n",
            "\u001b[1m123/123\u001b[0m \u001b[32m━━━━━━━━━━━━━━━━━━━━\u001b[0m\u001b[37m\u001b[0m \u001b[1m1s\u001b[0m 4ms/step - accuracy: 0.8376 - loss: 0.3333 - val_accuracy: 0.8163 - val_loss: 0.3813\n",
            "Epoch 26/100\n",
            "\u001b[1m123/123\u001b[0m \u001b[32m━━━━━━━━━━━━━━━━━━━━\u001b[0m\u001b[37m\u001b[0m \u001b[1m0s\u001b[0m 3ms/step - accuracy: 0.8506 - loss: 0.3249 - val_accuracy: 0.8204 - val_loss: 0.3831\n",
            "Epoch 27/100\n",
            "\u001b[1m123/123\u001b[0m \u001b[32m━━━━━━━━━━━━━━━━━━━━\u001b[0m\u001b[37m\u001b[0m \u001b[1m1s\u001b[0m 3ms/step - accuracy: 0.8424 - loss: 0.3404 - val_accuracy: 0.8235 - val_loss: 0.3805\n",
            "Epoch 28/100\n",
            "\u001b[1m123/123\u001b[0m \u001b[32m━━━━━━━━━━━━━━━━━━━━\u001b[0m\u001b[37m\u001b[0m \u001b[1m0s\u001b[0m 3ms/step - accuracy: 0.8478 - loss: 0.3244 - val_accuracy: 0.8173 - val_loss: 0.3869\n",
            "Epoch 29/100\n",
            "\u001b[1m123/123\u001b[0m \u001b[32m━━━━━━━━━━━━━━━━━━━━\u001b[0m\u001b[37m\u001b[0m \u001b[1m0s\u001b[0m 4ms/step - accuracy: 0.8315 - loss: 0.3339 - val_accuracy: 0.8163 - val_loss: 0.3844\n",
            "Epoch 30/100\n",
            "\u001b[1m123/123\u001b[0m \u001b[32m━━━━━━━━━━━━━━━━━━━━\u001b[0m\u001b[37m\u001b[0m \u001b[1m1s\u001b[0m 3ms/step - accuracy: 0.8417 - loss: 0.3350 - val_accuracy: 0.8255 - val_loss: 0.3795\n",
            "Epoch 31/100\n",
            "\u001b[1m123/123\u001b[0m \u001b[32m━━━━━━━━━━━━━━━━━━━━\u001b[0m\u001b[37m\u001b[0m \u001b[1m1s\u001b[0m 3ms/step - accuracy: 0.8306 - loss: 0.3456 - val_accuracy: 0.8286 - val_loss: 0.3820\n",
            "Epoch 32/100\n",
            "\u001b[1m123/123\u001b[0m \u001b[32m━━━━━━━━━━━━━━━━━━━━\u001b[0m\u001b[37m\u001b[0m \u001b[1m0s\u001b[0m 3ms/step - accuracy: 0.8367 - loss: 0.3385 - val_accuracy: 0.8133 - val_loss: 0.3811\n",
            "Epoch 33/100\n",
            "\u001b[1m123/123\u001b[0m \u001b[32m━━━━━━━━━━━━━━━━━━━━\u001b[0m\u001b[37m\u001b[0m \u001b[1m0s\u001b[0m 3ms/step - accuracy: 0.8398 - loss: 0.3354 - val_accuracy: 0.8204 - val_loss: 0.3875\n",
            "Epoch 34/100\n",
            "\u001b[1m123/123\u001b[0m \u001b[32m━━━━━━━━━━━━━━━━━━━━\u001b[0m\u001b[37m\u001b[0m \u001b[1m1s\u001b[0m 3ms/step - accuracy: 0.8359 - loss: 0.3394 - val_accuracy: 0.8245 - val_loss: 0.3789\n",
            "Epoch 35/100\n",
            "\u001b[1m123/123\u001b[0m \u001b[32m━━━━━━━━━━━━━━━━━━━━\u001b[0m\u001b[37m\u001b[0m \u001b[1m0s\u001b[0m 3ms/step - accuracy: 0.8350 - loss: 0.3371 - val_accuracy: 0.8235 - val_loss: 0.3820\n",
            "Epoch 36/100\n",
            "\u001b[1m123/123\u001b[0m \u001b[32m━━━━━━━━━━━━━━━━━━━━\u001b[0m\u001b[37m\u001b[0m \u001b[1m1s\u001b[0m 3ms/step - accuracy: 0.8466 - loss: 0.3276 - val_accuracy: 0.8316 - val_loss: 0.3781\n",
            "Epoch 37/100\n",
            "\u001b[1m123/123\u001b[0m \u001b[32m━━━━━━━━━━━━━━━━━━━━\u001b[0m\u001b[37m\u001b[0m \u001b[1m1s\u001b[0m 3ms/step - accuracy: 0.8461 - loss: 0.3254 - val_accuracy: 0.8265 - val_loss: 0.3801\n",
            "Epoch 38/100\n",
            "\u001b[1m123/123\u001b[0m \u001b[32m━━━━━━━━━━━━━━━━━━━━\u001b[0m\u001b[37m\u001b[0m \u001b[1m1s\u001b[0m 3ms/step - accuracy: 0.8455 - loss: 0.3173 - val_accuracy: 0.8173 - val_loss: 0.3761\n",
            "Epoch 39/100\n",
            "\u001b[1m123/123\u001b[0m \u001b[32m━━━━━━━━━━━━━━━━━━━━\u001b[0m\u001b[37m\u001b[0m \u001b[1m1s\u001b[0m 3ms/step - accuracy: 0.8431 - loss: 0.3268 - val_accuracy: 0.8224 - val_loss: 0.3832\n",
            "Epoch 40/100\n",
            "\u001b[1m123/123\u001b[0m \u001b[32m━━━━━━━━━━━━━━━━━━━━\u001b[0m\u001b[37m\u001b[0m \u001b[1m0s\u001b[0m 3ms/step - accuracy: 0.8432 - loss: 0.3241 - val_accuracy: 0.8378 - val_loss: 0.3806\n",
            "Epoch 41/100\n",
            "\u001b[1m123/123\u001b[0m \u001b[32m━━━━━━━━━━━━━━━━━━━━\u001b[0m\u001b[37m\u001b[0m \u001b[1m1s\u001b[0m 3ms/step - accuracy: 0.8533 - loss: 0.3157 - val_accuracy: 0.8255 - val_loss: 0.3784\n",
            "Epoch 42/100\n",
            "\u001b[1m123/123\u001b[0m \u001b[32m━━━━━━━━━━━━━━━━━━━━\u001b[0m\u001b[37m\u001b[0m \u001b[1m0s\u001b[0m 3ms/step - accuracy: 0.8507 - loss: 0.3121 - val_accuracy: 0.8245 - val_loss: 0.3786\n",
            "Epoch 43/100\n",
            "\u001b[1m123/123\u001b[0m \u001b[32m━━━━━━━━━━━━━━━━━━━━\u001b[0m\u001b[37m\u001b[0m \u001b[1m0s\u001b[0m 3ms/step - accuracy: 0.8399 - loss: 0.3222 - val_accuracy: 0.8235 - val_loss: 0.3812\n",
            "Epoch 44/100\n",
            "\u001b[1m123/123\u001b[0m \u001b[32m━━━━━━━━━━━━━━━━━━━━\u001b[0m\u001b[37m\u001b[0m \u001b[1m1s\u001b[0m 3ms/step - accuracy: 0.8504 - loss: 0.3210 - val_accuracy: 0.8316 - val_loss: 0.3756\n",
            "Epoch 45/100\n",
            "\u001b[1m123/123\u001b[0m \u001b[32m━━━━━━━━━━━━━━━━━━━━\u001b[0m\u001b[37m\u001b[0m \u001b[1m0s\u001b[0m 4ms/step - accuracy: 0.8582 - loss: 0.3072 - val_accuracy: 0.8286 - val_loss: 0.3756\n",
            "Epoch 46/100\n",
            "\u001b[1m123/123\u001b[0m \u001b[32m━━━━━━━━━━━━━━━━━━━━\u001b[0m\u001b[37m\u001b[0m \u001b[1m1s\u001b[0m 5ms/step - accuracy: 0.8557 - loss: 0.3064 - val_accuracy: 0.8296 - val_loss: 0.3788\n",
            "Epoch 47/100\n",
            "\u001b[1m123/123\u001b[0m \u001b[32m━━━━━━━━━━━━━━━━━━━━\u001b[0m\u001b[37m\u001b[0m \u001b[1m1s\u001b[0m 4ms/step - accuracy: 0.8592 - loss: 0.3068 - val_accuracy: 0.8296 - val_loss: 0.3774\n",
            "Epoch 48/100\n",
            "\u001b[1m123/123\u001b[0m \u001b[32m━━━━━━━━━━━━━━━━━━━━\u001b[0m\u001b[37m\u001b[0m \u001b[1m1s\u001b[0m 4ms/step - accuracy: 0.8561 - loss: 0.3076 - val_accuracy: 0.8245 - val_loss: 0.3754\n",
            "Epoch 49/100\n",
            "\u001b[1m123/123\u001b[0m \u001b[32m━━━━━━━━━━━━━━━━━━━━\u001b[0m\u001b[37m\u001b[0m \u001b[1m1s\u001b[0m 4ms/step - accuracy: 0.8522 - loss: 0.3112 - val_accuracy: 0.8286 - val_loss: 0.3826\n",
            "Epoch 50/100\n",
            "\u001b[1m123/123\u001b[0m \u001b[32m━━━━━━━━━━━━━━━━━━━━\u001b[0m\u001b[37m\u001b[0m \u001b[1m1s\u001b[0m 5ms/step - accuracy: 0.8500 - loss: 0.3090 - val_accuracy: 0.8347 - val_loss: 0.3788\n",
            "Epoch 51/100\n",
            "\u001b[1m123/123\u001b[0m \u001b[32m━━━━━━━━━━━━━━━━━━━━\u001b[0m\u001b[37m\u001b[0m \u001b[1m1s\u001b[0m 5ms/step - accuracy: 0.8553 - loss: 0.3092 - val_accuracy: 0.8245 - val_loss: 0.3848\n",
            "Epoch 52/100\n",
            "\u001b[1m123/123\u001b[0m \u001b[32m━━━━━━━━━━━━━━━━━━━━\u001b[0m\u001b[37m\u001b[0m \u001b[1m0s\u001b[0m 3ms/step - accuracy: 0.8545 - loss: 0.3022 - val_accuracy: 0.8255 - val_loss: 0.3824\n",
            "Epoch 53/100\n",
            "\u001b[1m123/123\u001b[0m \u001b[32m━━━━━━━━━━━━━━━━━━━━\u001b[0m\u001b[37m\u001b[0m \u001b[1m1s\u001b[0m 3ms/step - accuracy: 0.8547 - loss: 0.2998 - val_accuracy: 0.8296 - val_loss: 0.3781\n",
            "Epoch 54/100\n",
            "\u001b[1m123/123\u001b[0m \u001b[32m━━━━━━━━━━━━━━━━━━━━\u001b[0m\u001b[37m\u001b[0m \u001b[1m1s\u001b[0m 3ms/step - accuracy: 0.8566 - loss: 0.3164 - val_accuracy: 0.8255 - val_loss: 0.3805\n",
            "Epoch 55/100\n",
            "\u001b[1m123/123\u001b[0m \u001b[32m━━━━━━━━━━━━━━━━━━━━\u001b[0m\u001b[37m\u001b[0m \u001b[1m1s\u001b[0m 3ms/step - accuracy: 0.8623 - loss: 0.3007 - val_accuracy: 0.8286 - val_loss: 0.3794\n",
            "Epoch 56/100\n",
            "\u001b[1m123/123\u001b[0m \u001b[32m━━━━━━━━━━━━━━━━━━━━\u001b[0m\u001b[37m\u001b[0m \u001b[1m1s\u001b[0m 3ms/step - accuracy: 0.8530 - loss: 0.3148 - val_accuracy: 0.8245 - val_loss: 0.3834\n",
            "Epoch 57/100\n",
            "\u001b[1m123/123\u001b[0m \u001b[32m━━━━━━━━━━━━━━━━━━━━\u001b[0m\u001b[37m\u001b[0m \u001b[1m1s\u001b[0m 3ms/step - accuracy: 0.8604 - loss: 0.3003 - val_accuracy: 0.8255 - val_loss: 0.3841\n",
            "Epoch 58/100\n",
            "\u001b[1m123/123\u001b[0m \u001b[32m━━━━━━━━━━━━━━━━━━━━\u001b[0m\u001b[37m\u001b[0m \u001b[1m0s\u001b[0m 3ms/step - accuracy: 0.8593 - loss: 0.3033 - val_accuracy: 0.8306 - val_loss: 0.3743\n",
            "Epoch 59/100\n",
            "\u001b[1m123/123\u001b[0m \u001b[32m━━━━━━━━━━━━━━━━━━━━\u001b[0m\u001b[37m\u001b[0m \u001b[1m0s\u001b[0m 3ms/step - accuracy: 0.8639 - loss: 0.3049 - val_accuracy: 0.8327 - val_loss: 0.3804\n",
            "Epoch 60/100\n",
            "\u001b[1m123/123\u001b[0m \u001b[32m━━━━━━━━━━━━━━━━━━━━\u001b[0m\u001b[37m\u001b[0m \u001b[1m1s\u001b[0m 3ms/step - accuracy: 0.8686 - loss: 0.2869 - val_accuracy: 0.8327 - val_loss: 0.3761\n",
            "Epoch 61/100\n",
            "\u001b[1m123/123\u001b[0m \u001b[32m━━━━━━━━━━━━━━━━━━━━\u001b[0m\u001b[37m\u001b[0m \u001b[1m1s\u001b[0m 3ms/step - accuracy: 0.8453 - loss: 0.3132 - val_accuracy: 0.8286 - val_loss: 0.3838\n",
            "Epoch 62/100\n",
            "\u001b[1m123/123\u001b[0m \u001b[32m━━━━━━━━━━━━━━━━━━━━\u001b[0m\u001b[37m\u001b[0m \u001b[1m1s\u001b[0m 3ms/step - accuracy: 0.8530 - loss: 0.3071 - val_accuracy: 0.8255 - val_loss: 0.3786\n",
            "Epoch 63/100\n",
            "\u001b[1m123/123\u001b[0m \u001b[32m━━━━━━━━━━━━━━━━━━━━\u001b[0m\u001b[37m\u001b[0m \u001b[1m1s\u001b[0m 3ms/step - accuracy: 0.8636 - loss: 0.2937 - val_accuracy: 0.8265 - val_loss: 0.3890\n",
            "Epoch 64/100\n",
            "\u001b[1m123/123\u001b[0m \u001b[32m━━━━━━━━━━━━━━━━━━━━\u001b[0m\u001b[37m\u001b[0m \u001b[1m1s\u001b[0m 3ms/step - accuracy: 0.8651 - loss: 0.2899 - val_accuracy: 0.8316 - val_loss: 0.3796\n",
            "Epoch 65/100\n",
            "\u001b[1m123/123\u001b[0m \u001b[32m━━━━━━━━━━━━━━━━━━━━\u001b[0m\u001b[37m\u001b[0m \u001b[1m1s\u001b[0m 3ms/step - accuracy: 0.8632 - loss: 0.2976 - val_accuracy: 0.8265 - val_loss: 0.3793\n",
            "Epoch 66/100\n",
            "\u001b[1m123/123\u001b[0m \u001b[32m━━━━━━━━━━━━━━━━━━━━\u001b[0m\u001b[37m\u001b[0m \u001b[1m1s\u001b[0m 3ms/step - accuracy: 0.8601 - loss: 0.2831 - val_accuracy: 0.8378 - val_loss: 0.3840\n",
            "Epoch 67/100\n",
            "\u001b[1m123/123\u001b[0m \u001b[32m━━━━━━━━━━━━━━━━━━━━\u001b[0m\u001b[37m\u001b[0m \u001b[1m0s\u001b[0m 3ms/step - accuracy: 0.8545 - loss: 0.2990 - val_accuracy: 0.8378 - val_loss: 0.3876\n",
            "Epoch 68/100\n",
            "\u001b[1m123/123\u001b[0m \u001b[32m━━━━━━━━━━━━━━━━━━━━\u001b[0m\u001b[37m\u001b[0m \u001b[1m1s\u001b[0m 3ms/step - accuracy: 0.8675 - loss: 0.2853 - val_accuracy: 0.8337 - val_loss: 0.3807\n",
            "Epoch 69/100\n",
            "\u001b[1m123/123\u001b[0m \u001b[32m━━━━━━━━━━━━━━━━━━━━\u001b[0m\u001b[37m\u001b[0m \u001b[1m1s\u001b[0m 4ms/step - accuracy: 0.8625 - loss: 0.2959 - val_accuracy: 0.8388 - val_loss: 0.3785\n",
            "Epoch 70/100\n",
            "\u001b[1m123/123\u001b[0m \u001b[32m━━━━━━━━━━━━━━━━━━━━\u001b[0m\u001b[37m\u001b[0m \u001b[1m1s\u001b[0m 5ms/step - accuracy: 0.8580 - loss: 0.2986 - val_accuracy: 0.8378 - val_loss: 0.3814\n",
            "Epoch 71/100\n",
            "\u001b[1m123/123\u001b[0m \u001b[32m━━━━━━━━━━━━━━━━━━━━\u001b[0m\u001b[37m\u001b[0m \u001b[1m1s\u001b[0m 4ms/step - accuracy: 0.8474 - loss: 0.3120 - val_accuracy: 0.8367 - val_loss: 0.3819\n",
            "Epoch 72/100\n",
            "\u001b[1m123/123\u001b[0m \u001b[32m━━━━━━━━━━━━━━━━━━━━\u001b[0m\u001b[37m\u001b[0m \u001b[1m1s\u001b[0m 4ms/step - accuracy: 0.8536 - loss: 0.2982 - val_accuracy: 0.8276 - val_loss: 0.3781\n",
            "Epoch 73/100\n",
            "\u001b[1m123/123\u001b[0m \u001b[32m━━━━━━━━━━━━━━━━━━━━\u001b[0m\u001b[37m\u001b[0m \u001b[1m1s\u001b[0m 4ms/step - accuracy: 0.8704 - loss: 0.2878 - val_accuracy: 0.8367 - val_loss: 0.3791\n",
            "Epoch 74/100\n",
            "\u001b[1m123/123\u001b[0m \u001b[32m━━━━━━━━━━━━━━━━━━━━\u001b[0m\u001b[37m\u001b[0m \u001b[1m1s\u001b[0m 5ms/step - accuracy: 0.8727 - loss: 0.2868 - val_accuracy: 0.8276 - val_loss: 0.3848\n",
            "Epoch 75/100\n",
            "\u001b[1m123/123\u001b[0m \u001b[32m━━━━━━━━━━━━━━━━━━━━\u001b[0m\u001b[37m\u001b[0m \u001b[1m1s\u001b[0m 5ms/step - accuracy: 0.8678 - loss: 0.2942 - val_accuracy: 0.8347 - val_loss: 0.3849\n",
            "Epoch 76/100\n",
            "\u001b[1m123/123\u001b[0m \u001b[32m━━━━━━━━━━━━━━━━━━━━\u001b[0m\u001b[37m\u001b[0m \u001b[1m0s\u001b[0m 3ms/step - accuracy: 0.8646 - loss: 0.2913 - val_accuracy: 0.8378 - val_loss: 0.3798\n",
            "Epoch 77/100\n",
            "\u001b[1m123/123\u001b[0m \u001b[32m━━━━━━━━━━━━━━━━━━━━\u001b[0m\u001b[37m\u001b[0m \u001b[1m1s\u001b[0m 3ms/step - accuracy: 0.8686 - loss: 0.2771 - val_accuracy: 0.8367 - val_loss: 0.3818\n",
            "Epoch 78/100\n",
            "\u001b[1m123/123\u001b[0m \u001b[32m━━━━━━━━━━━━━━━━━━━━\u001b[0m\u001b[37m\u001b[0m \u001b[1m0s\u001b[0m 3ms/step - accuracy: 0.8679 - loss: 0.2940 - val_accuracy: 0.8388 - val_loss: 0.3767\n",
            "Epoch 79/100\n",
            "\u001b[1m123/123\u001b[0m \u001b[32m━━━━━━━━━━━━━━━━━━━━\u001b[0m\u001b[37m\u001b[0m \u001b[1m1s\u001b[0m 3ms/step - accuracy: 0.8576 - loss: 0.3018 - val_accuracy: 0.8398 - val_loss: 0.3852\n",
            "Epoch 80/100\n",
            "\u001b[1m123/123\u001b[0m \u001b[32m━━━━━━━━━━━━━━━━━━━━\u001b[0m\u001b[37m\u001b[0m \u001b[1m1s\u001b[0m 3ms/step - accuracy: 0.8603 - loss: 0.2935 - val_accuracy: 0.8429 - val_loss: 0.3866\n",
            "Epoch 81/100\n",
            "\u001b[1m123/123\u001b[0m \u001b[32m━━━━━━━━━━━━━━━━━━━━\u001b[0m\u001b[37m\u001b[0m \u001b[1m0s\u001b[0m 3ms/step - accuracy: 0.8551 - loss: 0.3016 - val_accuracy: 0.8357 - val_loss: 0.3874\n",
            "Epoch 82/100\n",
            "\u001b[1m123/123\u001b[0m \u001b[32m━━━━━━━━━━━━━━━━━━━━\u001b[0m\u001b[37m\u001b[0m \u001b[1m0s\u001b[0m 4ms/step - accuracy: 0.8744 - loss: 0.2831 - val_accuracy: 0.8337 - val_loss: 0.3768\n",
            "Epoch 83/100\n",
            "\u001b[1m123/123\u001b[0m \u001b[32m━━━━━━━━━━━━━━━━━━━━\u001b[0m\u001b[37m\u001b[0m \u001b[1m1s\u001b[0m 3ms/step - accuracy: 0.8671 - loss: 0.2874 - val_accuracy: 0.8337 - val_loss: 0.3759\n",
            "Epoch 84/100\n",
            "\u001b[1m123/123\u001b[0m \u001b[32m━━━━━━━━━━━━━━━━━━━━\u001b[0m\u001b[37m\u001b[0m \u001b[1m0s\u001b[0m 3ms/step - accuracy: 0.8666 - loss: 0.2911 - val_accuracy: 0.8337 - val_loss: 0.3798\n",
            "Epoch 85/100\n",
            "\u001b[1m123/123\u001b[0m \u001b[32m━━━━━━━━━━━━━━━━━━━━\u001b[0m\u001b[37m\u001b[0m \u001b[1m1s\u001b[0m 4ms/step - accuracy: 0.8750 - loss: 0.2775 - val_accuracy: 0.8347 - val_loss: 0.3801\n",
            "Epoch 86/100\n",
            "\u001b[1m123/123\u001b[0m \u001b[32m━━━━━━━━━━━━━━━━━━━━\u001b[0m\u001b[37m\u001b[0m \u001b[1m1s\u001b[0m 3ms/step - accuracy: 0.8720 - loss: 0.2775 - val_accuracy: 0.8286 - val_loss: 0.3890\n",
            "Epoch 87/100\n",
            "\u001b[1m123/123\u001b[0m \u001b[32m━━━━━━━━━━━━━━━━━━━━\u001b[0m\u001b[37m\u001b[0m \u001b[1m1s\u001b[0m 3ms/step - accuracy: 0.8744 - loss: 0.2740 - val_accuracy: 0.8357 - val_loss: 0.3803\n",
            "Epoch 88/100\n",
            "\u001b[1m123/123\u001b[0m \u001b[32m━━━━━━━━━━━━━━━━━━━━\u001b[0m\u001b[37m\u001b[0m \u001b[1m1s\u001b[0m 3ms/step - accuracy: 0.8608 - loss: 0.2908 - val_accuracy: 0.8316 - val_loss: 0.3770\n",
            "Epoch 89/100\n",
            "\u001b[1m123/123\u001b[0m \u001b[32m━━━━━━━━━━━━━━━━━━━━\u001b[0m\u001b[37m\u001b[0m \u001b[1m1s\u001b[0m 3ms/step - accuracy: 0.8794 - loss: 0.2763 - val_accuracy: 0.8357 - val_loss: 0.3925\n",
            "Epoch 90/100\n",
            "\u001b[1m123/123\u001b[0m \u001b[32m━━━━━━━━━━━━━━━━━━━━\u001b[0m\u001b[37m\u001b[0m \u001b[1m0s\u001b[0m 3ms/step - accuracy: 0.8646 - loss: 0.2792 - val_accuracy: 0.8327 - val_loss: 0.3831\n",
            "Epoch 91/100\n",
            "\u001b[1m123/123\u001b[0m \u001b[32m━━━━━━━━━━━━━━━━━━━━\u001b[0m\u001b[37m\u001b[0m \u001b[1m0s\u001b[0m 3ms/step - accuracy: 0.8734 - loss: 0.2716 - val_accuracy: 0.8357 - val_loss: 0.3823\n",
            "Epoch 92/100\n",
            "\u001b[1m123/123\u001b[0m \u001b[32m━━━━━━━━━━━━━━━━━━━━\u001b[0m\u001b[37m\u001b[0m \u001b[1m0s\u001b[0m 3ms/step - accuracy: 0.8762 - loss: 0.2732 - val_accuracy: 0.8347 - val_loss: 0.3818\n",
            "Epoch 93/100\n",
            "\u001b[1m123/123\u001b[0m \u001b[32m━━━━━━━━━━━━━━━━━━━━\u001b[0m\u001b[37m\u001b[0m \u001b[1m1s\u001b[0m 4ms/step - accuracy: 0.8598 - loss: 0.2863 - val_accuracy: 0.8367 - val_loss: 0.3820\n",
            "Epoch 94/100\n",
            "\u001b[1m123/123\u001b[0m \u001b[32m━━━━━━━━━━━━━━━━━━━━\u001b[0m\u001b[37m\u001b[0m \u001b[1m0s\u001b[0m 4ms/step - accuracy: 0.8689 - loss: 0.2805 - val_accuracy: 0.8429 - val_loss: 0.3829\n",
            "Epoch 95/100\n",
            "\u001b[1m123/123\u001b[0m \u001b[32m━━━━━━━━━━━━━━━━━━━━\u001b[0m\u001b[37m\u001b[0m \u001b[1m1s\u001b[0m 5ms/step - accuracy: 0.8675 - loss: 0.2792 - val_accuracy: 0.8296 - val_loss: 0.3841\n",
            "Epoch 96/100\n",
            "\u001b[1m123/123\u001b[0m \u001b[32m━━━━━━━━━━━━━━━━━━━━\u001b[0m\u001b[37m\u001b[0m \u001b[1m1s\u001b[0m 4ms/step - accuracy: 0.8740 - loss: 0.2746 - val_accuracy: 0.8347 - val_loss: 0.3787\n",
            "Epoch 97/100\n",
            "\u001b[1m123/123\u001b[0m \u001b[32m━━━━━━━━━━━━━━━━━━━━\u001b[0m\u001b[37m\u001b[0m \u001b[1m1s\u001b[0m 5ms/step - accuracy: 0.8679 - loss: 0.2842 - val_accuracy: 0.8316 - val_loss: 0.3837\n",
            "Epoch 98/100\n",
            "\u001b[1m123/123\u001b[0m \u001b[32m━━━━━━━━━━━━━━━━━━━━\u001b[0m\u001b[37m\u001b[0m \u001b[1m1s\u001b[0m 4ms/step - accuracy: 0.8674 - loss: 0.2760 - val_accuracy: 0.8347 - val_loss: 0.3941\n",
            "Epoch 99/100\n",
            "\u001b[1m123/123\u001b[0m \u001b[32m━━━━━━━━━━━━━━━━━━━━\u001b[0m\u001b[37m\u001b[0m \u001b[1m0s\u001b[0m 3ms/step - accuracy: 0.8702 - loss: 0.2754 - val_accuracy: 0.8337 - val_loss: 0.3780\n",
            "Epoch 100/100\n",
            "\u001b[1m123/123\u001b[0m \u001b[32m━━━━━━━━━━━━━━━━━━━━\u001b[0m\u001b[37m\u001b[0m \u001b[1m1s\u001b[0m 3ms/step - accuracy: 0.8718 - loss: 0.2695 - val_accuracy: 0.8367 - val_loss: 0.3822\n",
            "\u001b[1m31/31\u001b[0m \u001b[32m━━━━━━━━━━━━━━━━━━━━\u001b[0m\u001b[37m\u001b[0m \u001b[1m0s\u001b[0m 3ms/step\n",
            "ANN Classification Report:\n",
            "              precision    recall  f1-score   support\n",
            "\n",
            "           0       0.87      0.92      0.90       753\n",
            "           1       0.68      0.56      0.61       227\n",
            "\n",
            "    accuracy                           0.84       980\n",
            "   macro avg       0.78      0.74      0.75       980\n",
            "weighted avg       0.83      0.84      0.83       980\n",
            "\n",
            "AUC-ROC: 0.738\n"
          ]
        }
      ]
    }
  ]
}