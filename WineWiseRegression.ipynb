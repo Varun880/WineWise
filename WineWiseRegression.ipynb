{
  "nbformat": 4,
  "nbformat_minor": 0,
  "metadata": {
    "colab": {
      "provenance": [],
      "mount_file_id": "1-0AEbaoFU_Pdf-NaJEXJj79LF0CQyt_W",
      "authorship_tag": "ABX9TyNapXWrAyUIABO1L7f+BiV8",
      "include_colab_link": true
    },
    "kernelspec": {
      "name": "python3",
      "display_name": "Python 3"
    },
    "language_info": {
      "name": "python"
    }
  },
  "cells": [
    {
      "cell_type": "markdown",
      "metadata": {
        "id": "view-in-github",
        "colab_type": "text"
      },
      "source": [
        "<a href=\"https://colab.research.google.com/github/Varun880/WineWise/blob/main/WineWiseRegression.ipynb\" target=\"_parent\"><img src=\"https://colab.research.google.com/assets/colab-badge.svg\" alt=\"Open In Colab\"/></a>"
      ]
    },
    {
      "cell_type": "markdown",
      "source": [
        "## Introduction\n",
        "This notebook uses preprocessed data from 'Data Preprocessing Notebook' to predict wine quality scores using regression algorithms."
      ],
      "metadata": {
        "id": "rwJ9k6YKq_H6"
      }
    },
    {
      "cell_type": "code",
      "source": [
        "from google.colab import drive\n",
        "drive.mount('/content/drive')"
      ],
      "metadata": {
        "colab": {
          "base_uri": "https://localhost:8080/"
        },
        "id": "TngqCLki-5a4",
        "outputId": "624c00ed-5f18-463e-8782-6ed4f0979224"
      },
      "execution_count": 8,
      "outputs": [
        {
          "output_type": "stream",
          "name": "stdout",
          "text": [
            "Drive already mounted at /content/drive; to attempt to forcibly remount, call drive.mount(\"/content/drive\", force_remount=True).\n"
          ]
        }
      ]
    },
    {
      "cell_type": "markdown",
      "source": [
        "Importing Libraries"
      ],
      "metadata": {
        "id": "FJjWMZGlqq8c"
      }
    },
    {
      "cell_type": "code",
      "source": [
        "import numpy as np\n",
        "import pandas as pd\n",
        "import matplotlib.pyplot as plt\n",
        "import seaborn as sns"
      ],
      "metadata": {
        "id": "zHs0LNTd6sfk"
      },
      "execution_count": 9,
      "outputs": []
    },
    {
      "cell_type": "markdown",
      "source": [
        "Loading Processed Data"
      ],
      "metadata": {
        "id": "7chSLrEc7BT6"
      }
    },
    {
      "cell_type": "code",
      "source": [
        "data_store_location = '/content/drive/MyDrive/ColabNotebooks/Processed/'"
      ],
      "metadata": {
        "id": "euSDkKvfp6qS"
      },
      "execution_count": 10,
      "outputs": []
    },
    {
      "cell_type": "code",
      "source": [
        "X_reg_train_scaled = pd.read_csv(data_store_location+'X_reg_train_scaled.csv')\n",
        "X_reg_test_scaled = pd.read_csv(data_store_location+'X_reg_test_scaled.csv')\n",
        "X_reg_train = pd.read_csv(data_store_location+'X_reg_train.csv')\n",
        "X_reg_test = pd.read_csv(data_store_location+'X_reg_test.csv')\n",
        "y_reg_train = pd.read_csv(data_store_location+'y_reg_train.csv')\n",
        "y_reg_test = pd.read_csv(data_store_location+'y_reg_test.csv')"
      ],
      "metadata": {
        "id": "KLiqIpp353-U"
      },
      "execution_count": 11,
      "outputs": []
    },
    {
      "cell_type": "markdown",
      "source": [
        "Importing evaluation libraries"
      ],
      "metadata": {
        "id": "MW5OjgWV61Fz"
      }
    },
    {
      "cell_type": "code",
      "source": [
        "from sklearn.model_selection import GridSearchCV # to find the best hyperparameters\n",
        "from sklearn.metrics import mean_squared_error, r2_score # for metrics"
      ],
      "metadata": {
        "id": "T2N9tD9r6zqs"
      },
      "execution_count": 12,
      "outputs": []
    },
    {
      "cell_type": "markdown",
      "source": [
        "Linear Regression"
      ],
      "metadata": {
        "id": "mYyM5fxF5S1T"
      }
    },
    {
      "cell_type": "code",
      "execution_count": 13,
      "metadata": {
        "id": "PUSD94hW5NoB",
        "colab": {
          "base_uri": "https://localhost:8080/"
        },
        "outputId": "e4534df1-a845-4c72-8b09-b882d6dc6489"
      },
      "outputs": [
        {
          "output_type": "stream",
          "name": "stdout",
          "text": [
            "Linear Regression:\n",
            "MSE: 0.5690\n",
            "RMSE: 0.7543\n",
            "R²: 0.2653\n"
          ]
        }
      ],
      "source": [
        "from sklearn.linear_model import LinearRegression\n",
        "lr_reg = LinearRegression()\n",
        "lr_reg.fit(X_reg_train_scaled, y_reg_train) # training the model\n",
        "y_pred_lin = lr_reg.predict(X_reg_test_scaled)  # predicting test cases\n",
        "\n",
        "# Evaluation\n",
        "mse_lin = mean_squared_error(y_reg_test, y_pred_lin)  # mean sq error\n",
        "rmse_lin = np.sqrt(mse_lin) # root mse\n",
        "r2_lin = r2_score(y_reg_test, y_pred_lin) #r2 Value\n",
        "\n",
        "print('Linear Regression:')\n",
        "print(f'MSE: {mse_lin:.4f}')\n",
        "print(f'RMSE: {rmse_lin:.4f}')\n",
        "print(f'R²: {r2_lin:.4f}')"
      ]
    },
    {
      "cell_type": "markdown",
      "source": [
        "Random Forest Regression"
      ],
      "metadata": {
        "id": "Hp-6_OSN5Ysg"
      }
    },
    {
      "cell_type": "code",
      "source": [
        "from sklearn.ensemble import RandomForestRegressor\n",
        "\n",
        "rf_reg = RandomForestRegressor(\n",
        "    n_estimators=500,\n",
        "    max_depth=15,\n",
        "    min_samples_split=5,\n",
        "    min_samples_leaf=2)\n",
        "\n",
        "rf_reg.fit(X_reg_train_scaled, y_reg_train) # training the model\n",
        "y_pred_rf = rf_reg.predict(X_reg_test_scaled) # Make predictions\n",
        "\n",
        "mse_rf = mean_squared_error(y_reg_test, y_pred_rf)\n",
        "rmse_rf = np.sqrt(mse_rf)\n",
        "r2_rf = r2_score(y_reg_test, y_pred_rf)\n",
        "\n",
        "# Metrics\n",
        "print('Random Forest Regression:')\n",
        "print(f'MSE: {mse_rf:.4f}')\n",
        "print(f'RMSE: {rmse_rf:.4f}')\n",
        "print(f'R²: {r2_rf:.4f}')"
      ],
      "metadata": {
        "id": "zXdsa_jl5ZPs",
        "colab": {
          "base_uri": "https://localhost:8080/"
        },
        "outputId": "10a26b54-fbd3-4c9e-cc0b-cf53ad3620bb"
      },
      "execution_count": 14,
      "outputs": [
        {
          "output_type": "stream",
          "name": "stderr",
          "text": [
            "/usr/local/lib/python3.11/dist-packages/sklearn/base.py:1389: DataConversionWarning: A column-vector y was passed when a 1d array was expected. Please change the shape of y to (n_samples,), for example using ravel().\n",
            "  return fit_method(estimator, *args, **kwargs)\n"
          ]
        },
        {
          "output_type": "stream",
          "name": "stdout",
          "text": [
            "Random Forest Regression:\n",
            "MSE: 0.3679\n",
            "RMSE: 0.6066\n",
            "R²: 0.5249\n"
          ]
        }
      ]
    },
    {
      "cell_type": "markdown",
      "source": [
        "Support Vector Machine (Regression)"
      ],
      "metadata": {
        "id": "JNxqfJjS5cF7"
      }
    },
    {
      "cell_type": "code",
      "source": [
        "from sklearn.svm import SVR\n",
        "svr = SVR()\n",
        "\n",
        "param_grid_svr = {  # parameter options\n",
        "    'C': [0.1, 1, 10],\n",
        "    'epsilon': [0.01, 0.1, 0.5],\n",
        "    'kernel': ['rbf', 'linear']\n",
        "}\n",
        "grid_svr = GridSearchCV(svr, param_grid_svr, cv=5, scoring='neg_mean_squared_error', n_jobs=-1)\n",
        "grid_svr.fit(X_reg_train_scaled, y_reg_train) # training model\n",
        "\n",
        "best_svr = grid_svr.best_estimator_\n",
        "y_pred_svr = best_svr.predict(X_reg_test_scaled) # Making Predictions\n",
        "\n",
        "# metrics\n",
        "mse_svr = mean_squared_error(y_reg_test, y_pred_svr)\n",
        "rmse_svr = np.sqrt(mse_svr)\n",
        "r2_svr = r2_score(y_reg_test, y_pred_svr)\n",
        "\n",
        "print('Support Vector Regression (SVR):')\n",
        "print(f'Best Parameters: {grid_svr.best_params_}')\n",
        "print(f'MSE: {mse_svr:.4f}')\n",
        "print(f'RMSE: {rmse_svr:.4f}')\n",
        "print(f'R²: {r2_svr:.4f}')"
      ],
      "metadata": {
        "id": "D2HmDwdG5cvm",
        "colab": {
          "base_uri": "https://localhost:8080/"
        },
        "outputId": "ca5215ad-d189-4285-db54-870f2b8ef1d3"
      },
      "execution_count": 15,
      "outputs": [
        {
          "output_type": "stream",
          "name": "stderr",
          "text": [
            "/usr/local/lib/python3.11/dist-packages/sklearn/utils/validation.py:1408: DataConversionWarning: A column-vector y was passed when a 1d array was expected. Please change the shape of y to (n_samples, ), for example using ravel().\n",
            "  y = column_or_1d(y, warn=True)\n"
          ]
        },
        {
          "output_type": "stream",
          "name": "stdout",
          "text": [
            "Support Vector Regression (SVR):\n",
            "Best Parameters: {'C': 1, 'epsilon': 0.1, 'kernel': 'rbf'}\n",
            "MSE: 0.4709\n",
            "RMSE: 0.6862\n",
            "R²: 0.3920\n"
          ]
        }
      ]
    },
    {
      "cell_type": "markdown",
      "source": [
        "XG Boost"
      ],
      "metadata": {
        "id": "EtUNWX-J5k8h"
      }
    },
    {
      "cell_type": "code",
      "source": [
        "import xgboost as xgb\n",
        "\n",
        "xgb_model = xgb.XGBRegressor(\n",
        "    n_estimators=500,      # Number of trees\n",
        "    learning_rate=0.05,\n",
        "    max_depth=6,\n",
        "    subsample=0.8,         # Fraction of samples used for training each tree\n",
        "    colsample_bytree=0.8,  # Fraction of features used per tree\n",
        "    objective='reg:squarederror',  # Loss function for regression\n",
        "    random_state=1\n",
        ")\n",
        "\n",
        "xgb_model.fit(X_reg_train_scaled, y_reg_train) # training model\n",
        "y_pred = xgb_model.predict(X_reg_test_scaled) # Make predictions\n",
        "\n",
        "# Compute metrics\n",
        "mse = mean_squared_error(y_reg_test, y_pred)\n",
        "rmse = np.sqrt(mse)\n",
        "r2 = r2_score(y_reg_test, y_pred)\n",
        "\n",
        "# Print results\n",
        "print(f'XGBoost Regression:')\n",
        "print(f'MSE: {mse:.4f}')\n",
        "print(f'RMSE: {rmse:.4f}')\n",
        "print(f'R²: {r2:.4f}')"
      ],
      "metadata": {
        "id": "2Y_XS5kL5mdo",
        "colab": {
          "base_uri": "https://localhost:8080/"
        },
        "outputId": "7daac6d3-da7f-4814-aee3-3a18b06238ff"
      },
      "execution_count": 16,
      "outputs": [
        {
          "output_type": "stream",
          "name": "stdout",
          "text": [
            "XGBoost Regression:\n",
            "MSE: 0.3495\n",
            "RMSE: 0.5912\n",
            "R²: 0.5488\n"
          ]
        }
      ]
    },
    {
      "cell_type": "code",
      "source": [
        "from sklearn.tree import DecisionTreeRegressor\n",
        "\n",
        "dtree_model = DecisionTreeRegressor(random_state=1)\n",
        "dtree_model.fit(X_reg_train_scaled, y_reg_train)  # training the model\n",
        "\n",
        "y_pred_dtree = dtree_model.predict(X_reg_test_scaled) # Making Predictions\n",
        "\n",
        "# Metrics\n",
        "mse_dt = mean_squared_error(y_reg_test, y_pred_dtree)\n",
        "rmse_dt = np.sqrt(mse_dt)\n",
        "r2_dt = r2_score(y_reg_test, y_pred_dtree)\n",
        "\n",
        "print(\"Decision Tree Regression Results:\")\n",
        "print(f\"MSE: {mse_dt:.4f}\")\n",
        "print(f\"RMSE: {rmse_dt:.4f}\")\n",
        "print(f\"R²: {r2_dt:.4f}\")"
      ],
      "metadata": {
        "colab": {
          "base_uri": "https://localhost:8080/"
        },
        "id": "IvxAbS6_ZKTy",
        "outputId": "7adf8df7-e2a1-49b0-8b35-16b43d0f1bd4"
      },
      "execution_count": 17,
      "outputs": [
        {
          "output_type": "stream",
          "name": "stdout",
          "text": [
            "Decision Tree Regression Results:\n",
            "MSE: 0.6867\n",
            "RMSE: 0.8287\n",
            "R²: 0.1133\n"
          ]
        }
      ]
    },
    {
      "cell_type": "code",
      "source": [
        "import tensorflow as tf\n",
        "from tensorflow.keras.models import Sequential\n",
        "from tensorflow.keras.layers import Dense\n",
        "\n",
        "model_reg = Sequential()\n",
        "model_reg.add(Dense(64, activation='relu', input_shape=(X_reg_train_scaled.shape[1],))) # Input layer and first hidden layer\n",
        "model_reg.add(Dense(32, activation='relu')) # Second hidden layer\n",
        "model_reg.add(Dense(1)) # Output layer\n",
        "\n",
        "# Training ANN\n",
        "model_reg.compile(optimizer='adam', loss='mean_squared_error')\n",
        "model_reg.fit(X_reg_train_scaled, y_reg_train,\n",
        "                            epochs=100,\n",
        "                            batch_size=32,\n",
        "                            validation_data=(X_reg_test_scaled, y_reg_test),\n",
        "                            verbose=1)\n",
        "\n",
        "# Make predictions\n",
        "y_pred_ann_reg = model_reg.predict(X_reg_test_scaled)\n",
        "\n",
        "# Evaluation Metrics\n",
        "mse_ann = mean_squared_error(y_reg_test, y_pred_ann_reg)\n",
        "rmse_ann = np.sqrt(mse_ann)\n",
        "r2_ann = r2_score(y_reg_test, y_pred_ann_reg)\n",
        "\n",
        "# Printing results\n",
        "print(\"ANN Regression Results:\")\n",
        "print(f\"MSE: {mse_ann:.4f}\")\n",
        "print(f\"RMSE: {rmse_ann:.4f}\")\n",
        "print(f\"R²: {r2_ann:.4f}\")"
      ],
      "metadata": {
        "colab": {
          "base_uri": "https://localhost:8080/"
        },
        "id": "OMMrDDdlZ83D",
        "outputId": "75c3ff8a-b13f-43d7-ff8e-d57ed2bd1d24"
      },
      "execution_count": 18,
      "outputs": [
        {
          "output_type": "stream",
          "name": "stdout",
          "text": [
            "Epoch 1/100\n"
          ]
        },
        {
          "output_type": "stream",
          "name": "stderr",
          "text": [
            "/usr/local/lib/python3.11/dist-packages/keras/src/layers/core/dense.py:87: UserWarning: Do not pass an `input_shape`/`input_dim` argument to a layer. When using Sequential models, prefer using an `Input(shape)` object as the first layer in the model instead.\n",
            "  super().__init__(activity_regularizer=activity_regularizer, **kwargs)\n"
          ]
        },
        {
          "output_type": "stream",
          "name": "stdout",
          "text": [
            "\u001b[1m123/123\u001b[0m \u001b[32m━━━━━━━━━━━━━━━━━━━━\u001b[0m\u001b[37m\u001b[0m \u001b[1m2s\u001b[0m 7ms/step - loss: 21.8973 - val_loss: 3.2091\n",
            "Epoch 2/100\n",
            "\u001b[1m123/123\u001b[0m \u001b[32m━━━━━━━━━━━━━━━━━━━━\u001b[0m\u001b[37m\u001b[0m \u001b[1m1s\u001b[0m 5ms/step - loss: 2.4104 - val_loss: 2.2678\n",
            "Epoch 3/100\n",
            "\u001b[1m123/123\u001b[0m \u001b[32m━━━━━━━━━━━━━━━━━━━━\u001b[0m\u001b[37m\u001b[0m \u001b[1m1s\u001b[0m 5ms/step - loss: 1.7372 - val_loss: 1.7572\n",
            "Epoch 4/100\n",
            "\u001b[1m123/123\u001b[0m \u001b[32m━━━━━━━━━━━━━━━━━━━━\u001b[0m\u001b[37m\u001b[0m \u001b[1m1s\u001b[0m 3ms/step - loss: 1.2818 - val_loss: 1.3688\n",
            "Epoch 5/100\n",
            "\u001b[1m123/123\u001b[0m \u001b[32m━━━━━━━━━━━━━━━━━━━━\u001b[0m\u001b[37m\u001b[0m \u001b[1m1s\u001b[0m 3ms/step - loss: 1.0868 - val_loss: 1.0265\n",
            "Epoch 6/100\n",
            "\u001b[1m123/123\u001b[0m \u001b[32m━━━━━━━━━━━━━━━━━━━━\u001b[0m\u001b[37m\u001b[0m \u001b[1m0s\u001b[0m 3ms/step - loss: 0.8059 - val_loss: 0.7995\n",
            "Epoch 7/100\n",
            "\u001b[1m123/123\u001b[0m \u001b[32m━━━━━━━━━━━━━━━━━━━━\u001b[0m\u001b[37m\u001b[0m \u001b[1m1s\u001b[0m 3ms/step - loss: 0.6439 - val_loss: 0.7042\n",
            "Epoch 8/100\n",
            "\u001b[1m123/123\u001b[0m \u001b[32m━━━━━━━━━━━━━━━━━━━━\u001b[0m\u001b[37m\u001b[0m \u001b[1m1s\u001b[0m 3ms/step - loss: 0.5910 - val_loss: 0.6101\n",
            "Epoch 9/100\n",
            "\u001b[1m123/123\u001b[0m \u001b[32m━━━━━━━━━━━━━━━━━━━━\u001b[0m\u001b[37m\u001b[0m \u001b[1m1s\u001b[0m 3ms/step - loss: 0.5494 - val_loss: 0.5781\n",
            "Epoch 10/100\n",
            "\u001b[1m123/123\u001b[0m \u001b[32m━━━━━━━━━━━━━━━━━━━━\u001b[0m\u001b[37m\u001b[0m \u001b[1m0s\u001b[0m 4ms/step - loss: 0.5289 - val_loss: 0.5487\n",
            "Epoch 11/100\n",
            "\u001b[1m123/123\u001b[0m \u001b[32m━━━━━━━━━━━━━━━━━━━━\u001b[0m\u001b[37m\u001b[0m \u001b[1m0s\u001b[0m 3ms/step - loss: 0.5007 - val_loss: 0.5406\n",
            "Epoch 12/100\n",
            "\u001b[1m123/123\u001b[0m \u001b[32m━━━━━━━━━━━━━━━━━━━━\u001b[0m\u001b[37m\u001b[0m \u001b[1m1s\u001b[0m 3ms/step - loss: 0.4978 - val_loss: 0.5452\n",
            "Epoch 13/100\n",
            "\u001b[1m123/123\u001b[0m \u001b[32m━━━━━━━━━━━━━━━━━━━━\u001b[0m\u001b[37m\u001b[0m \u001b[1m0s\u001b[0m 4ms/step - loss: 0.4790 - val_loss: 0.5217\n",
            "Epoch 14/100\n",
            "\u001b[1m123/123\u001b[0m \u001b[32m━━━━━━━━━━━━━━━━━━━━\u001b[0m\u001b[37m\u001b[0m \u001b[1m1s\u001b[0m 3ms/step - loss: 0.4649 - val_loss: 0.5232\n",
            "Epoch 15/100\n",
            "\u001b[1m123/123\u001b[0m \u001b[32m━━━━━━━━━━━━━━━━━━━━\u001b[0m\u001b[37m\u001b[0m \u001b[1m0s\u001b[0m 3ms/step - loss: 0.4716 - val_loss: 0.5498\n",
            "Epoch 16/100\n",
            "\u001b[1m123/123\u001b[0m \u001b[32m━━━━━━━━━━━━━━━━━━━━\u001b[0m\u001b[37m\u001b[0m \u001b[1m0s\u001b[0m 3ms/step - loss: 0.4960 - val_loss: 0.5158\n",
            "Epoch 17/100\n",
            "\u001b[1m123/123\u001b[0m \u001b[32m━━━━━━━━━━━━━━━━━━━━\u001b[0m\u001b[37m\u001b[0m \u001b[1m0s\u001b[0m 4ms/step - loss: 0.4820 - val_loss: 0.5237\n",
            "Epoch 18/100\n",
            "\u001b[1m123/123\u001b[0m \u001b[32m━━━━━━━━━━━━━━━━━━━━\u001b[0m\u001b[37m\u001b[0m \u001b[1m0s\u001b[0m 4ms/step - loss: 0.4810 - val_loss: 0.5078\n",
            "Epoch 19/100\n",
            "\u001b[1m123/123\u001b[0m \u001b[32m━━━━━━━━━━━━━━━━━━━━\u001b[0m\u001b[37m\u001b[0m \u001b[1m1s\u001b[0m 4ms/step - loss: 0.4669 - val_loss: 0.4981\n",
            "Epoch 20/100\n",
            "\u001b[1m123/123\u001b[0m \u001b[32m━━━━━━━━━━━━━━━━━━━━\u001b[0m\u001b[37m\u001b[0m \u001b[1m1s\u001b[0m 3ms/step - loss: 0.4350 - val_loss: 0.5241\n",
            "Epoch 21/100\n",
            "\u001b[1m123/123\u001b[0m \u001b[32m━━━━━━━━━━━━━━━━━━━━\u001b[0m\u001b[37m\u001b[0m \u001b[1m1s\u001b[0m 3ms/step - loss: 0.4584 - val_loss: 0.5159\n",
            "Epoch 22/100\n",
            "\u001b[1m123/123\u001b[0m \u001b[32m━━━━━━━━━━━━━━━━━━━━\u001b[0m\u001b[37m\u001b[0m \u001b[1m1s\u001b[0m 4ms/step - loss: 0.4420 - val_loss: 0.5044\n",
            "Epoch 23/100\n",
            "\u001b[1m123/123\u001b[0m \u001b[32m━━━━━━━━━━━━━━━━━━━━\u001b[0m\u001b[37m\u001b[0m \u001b[1m1s\u001b[0m 5ms/step - loss: 0.4628 - val_loss: 0.5165\n",
            "Epoch 24/100\n",
            "\u001b[1m123/123\u001b[0m \u001b[32m━━━━━━━━━━━━━━━━━━━━\u001b[0m\u001b[37m\u001b[0m \u001b[1m1s\u001b[0m 5ms/step - loss: 0.4504 - val_loss: 0.4999\n",
            "Epoch 25/100\n",
            "\u001b[1m123/123\u001b[0m \u001b[32m━━━━━━━━━━━━━━━━━━━━\u001b[0m\u001b[37m\u001b[0m \u001b[1m1s\u001b[0m 5ms/step - loss: 0.4577 - val_loss: 0.5012\n",
            "Epoch 26/100\n",
            "\u001b[1m123/123\u001b[0m \u001b[32m━━━━━━━━━━━━━━━━━━━━\u001b[0m\u001b[37m\u001b[0m \u001b[1m2s\u001b[0m 8ms/step - loss: 0.4454 - val_loss: 0.4956\n",
            "Epoch 27/100\n",
            "\u001b[1m123/123\u001b[0m \u001b[32m━━━━━━━━━━━━━━━━━━━━\u001b[0m\u001b[37m\u001b[0m \u001b[1m1s\u001b[0m 4ms/step - loss: 0.4269 - val_loss: 0.4980\n",
            "Epoch 28/100\n",
            "\u001b[1m123/123\u001b[0m \u001b[32m━━━━━━━━━━━━━━━━━━━━\u001b[0m\u001b[37m\u001b[0m \u001b[1m1s\u001b[0m 4ms/step - loss: 0.4310 - val_loss: 0.4932\n",
            "Epoch 29/100\n",
            "\u001b[1m123/123\u001b[0m \u001b[32m━━━━━━━━━━━━━━━━━━━━\u001b[0m\u001b[37m\u001b[0m \u001b[1m1s\u001b[0m 3ms/step - loss: 0.4376 - val_loss: 0.4862\n",
            "Epoch 30/100\n",
            "\u001b[1m123/123\u001b[0m \u001b[32m━━━━━━━━━━━━━━━━━━━━\u001b[0m\u001b[37m\u001b[0m \u001b[1m1s\u001b[0m 6ms/step - loss: 0.4200 - val_loss: 0.4872\n",
            "Epoch 31/100\n",
            "\u001b[1m123/123\u001b[0m \u001b[32m━━━━━━━━━━━━━━━━━━━━\u001b[0m\u001b[37m\u001b[0m \u001b[1m0s\u001b[0m 3ms/step - loss: 0.4332 - val_loss: 0.4986\n",
            "Epoch 32/100\n",
            "\u001b[1m123/123\u001b[0m \u001b[32m━━━━━━━━━━━━━━━━━━━━\u001b[0m\u001b[37m\u001b[0m \u001b[1m1s\u001b[0m 4ms/step - loss: 0.4275 - val_loss: 0.4865\n",
            "Epoch 33/100\n",
            "\u001b[1m123/123\u001b[0m \u001b[32m━━━━━━━━━━━━━━━━━━━━\u001b[0m\u001b[37m\u001b[0m \u001b[1m1s\u001b[0m 3ms/step - loss: 0.4180 - val_loss: 0.4780\n",
            "Epoch 34/100\n",
            "\u001b[1m123/123\u001b[0m \u001b[32m━━━━━━━━━━━━━━━━━━━━\u001b[0m\u001b[37m\u001b[0m \u001b[1m0s\u001b[0m 3ms/step - loss: 0.4023 - val_loss: 0.5001\n",
            "Epoch 35/100\n",
            "\u001b[1m123/123\u001b[0m \u001b[32m━━━━━━━━━━━━━━━━━━━━\u001b[0m\u001b[37m\u001b[0m \u001b[1m1s\u001b[0m 4ms/step - loss: 0.4230 - val_loss: 0.4977\n",
            "Epoch 36/100\n",
            "\u001b[1m123/123\u001b[0m \u001b[32m━━━━━━━━━━━━━━━━━━━━\u001b[0m\u001b[37m\u001b[0m \u001b[1m1s\u001b[0m 3ms/step - loss: 0.4078 - val_loss: 0.4836\n",
            "Epoch 37/100\n",
            "\u001b[1m123/123\u001b[0m \u001b[32m━━━━━━━━━━━━━━━━━━━━\u001b[0m\u001b[37m\u001b[0m \u001b[1m1s\u001b[0m 3ms/step - loss: 0.4147 - val_loss: 0.4822\n",
            "Epoch 38/100\n",
            "\u001b[1m123/123\u001b[0m \u001b[32m━━━━━━━━━━━━━━━━━━━━\u001b[0m\u001b[37m\u001b[0m \u001b[1m1s\u001b[0m 4ms/step - loss: 0.3849 - val_loss: 0.5061\n",
            "Epoch 39/100\n",
            "\u001b[1m123/123\u001b[0m \u001b[32m━━━━━━━━━━━━━━━━━━━━\u001b[0m\u001b[37m\u001b[0m \u001b[1m0s\u001b[0m 3ms/step - loss: 0.4276 - val_loss: 0.5220\n",
            "Epoch 40/100\n",
            "\u001b[1m123/123\u001b[0m \u001b[32m━━━━━━━━━━━━━━━━━━━━\u001b[0m\u001b[37m\u001b[0m \u001b[1m1s\u001b[0m 3ms/step - loss: 0.3914 - val_loss: 0.4943\n",
            "Epoch 41/100\n",
            "\u001b[1m123/123\u001b[0m \u001b[32m━━━━━━━━━━━━━━━━━━━━\u001b[0m\u001b[37m\u001b[0m \u001b[1m1s\u001b[0m 5ms/step - loss: 0.3792 - val_loss: 0.5185\n",
            "Epoch 42/100\n",
            "\u001b[1m123/123\u001b[0m \u001b[32m━━━━━━━━━━━━━━━━━━━━\u001b[0m\u001b[37m\u001b[0m \u001b[1m1s\u001b[0m 5ms/step - loss: 0.4117 - val_loss: 0.4775\n",
            "Epoch 43/100\n",
            "\u001b[1m123/123\u001b[0m \u001b[32m━━━━━━━━━━━━━━━━━━━━\u001b[0m\u001b[37m\u001b[0m \u001b[1m1s\u001b[0m 5ms/step - loss: 0.3787 - val_loss: 0.4768\n",
            "Epoch 44/100\n",
            "\u001b[1m123/123\u001b[0m \u001b[32m━━━━━━━━━━━━━━━━━━━━\u001b[0m\u001b[37m\u001b[0m \u001b[1m1s\u001b[0m 3ms/step - loss: 0.3767 - val_loss: 0.4848\n",
            "Epoch 45/100\n",
            "\u001b[1m123/123\u001b[0m \u001b[32m━━━━━━━━━━━━━━━━━━━━\u001b[0m\u001b[37m\u001b[0m \u001b[1m1s\u001b[0m 3ms/step - loss: 0.3874 - val_loss: 0.4835\n",
            "Epoch 46/100\n",
            "\u001b[1m123/123\u001b[0m \u001b[32m━━━━━━━━━━━━━━━━━━━━\u001b[0m\u001b[37m\u001b[0m \u001b[1m1s\u001b[0m 3ms/step - loss: 0.3864 - val_loss: 0.4977\n",
            "Epoch 47/100\n",
            "\u001b[1m123/123\u001b[0m \u001b[32m━━━━━━━━━━━━━━━━━━━━\u001b[0m\u001b[37m\u001b[0m \u001b[1m1s\u001b[0m 3ms/step - loss: 0.4032 - val_loss: 0.4938\n",
            "Epoch 48/100\n",
            "\u001b[1m123/123\u001b[0m \u001b[32m━━━━━━━━━━━━━━━━━━━━\u001b[0m\u001b[37m\u001b[0m \u001b[1m1s\u001b[0m 3ms/step - loss: 0.3834 - val_loss: 0.4849\n",
            "Epoch 49/100\n",
            "\u001b[1m123/123\u001b[0m \u001b[32m━━━━━━━━━━━━━━━━━━━━\u001b[0m\u001b[37m\u001b[0m \u001b[1m0s\u001b[0m 4ms/step - loss: 0.3808 - val_loss: 0.4940\n",
            "Epoch 50/100\n",
            "\u001b[1m123/123\u001b[0m \u001b[32m━━━━━━━━━━━━━━━━━━━━\u001b[0m\u001b[37m\u001b[0m \u001b[1m0s\u001b[0m 3ms/step - loss: 0.3778 - val_loss: 0.4820\n",
            "Epoch 51/100\n",
            "\u001b[1m123/123\u001b[0m \u001b[32m━━━━━━━━━━━━━━━━━━━━\u001b[0m\u001b[37m\u001b[0m \u001b[1m1s\u001b[0m 4ms/step - loss: 0.3798 - val_loss: 0.5089\n",
            "Epoch 52/100\n",
            "\u001b[1m123/123\u001b[0m \u001b[32m━━━━━━━━━━━━━━━━━━━━\u001b[0m\u001b[37m\u001b[0m \u001b[1m1s\u001b[0m 4ms/step - loss: 0.3958 - val_loss: 0.4811\n",
            "Epoch 53/100\n",
            "\u001b[1m123/123\u001b[0m \u001b[32m━━━━━━━━━━━━━━━━━━━━\u001b[0m\u001b[37m\u001b[0m \u001b[1m1s\u001b[0m 3ms/step - loss: 0.3889 - val_loss: 0.4957\n",
            "Epoch 54/100\n",
            "\u001b[1m123/123\u001b[0m \u001b[32m━━━━━━━━━━━━━━━━━━━━\u001b[0m\u001b[37m\u001b[0m \u001b[1m0s\u001b[0m 3ms/step - loss: 0.3751 - val_loss: 0.4953\n",
            "Epoch 55/100\n",
            "\u001b[1m123/123\u001b[0m \u001b[32m━━━━━━━━━━━━━━━━━━━━\u001b[0m\u001b[37m\u001b[0m \u001b[1m0s\u001b[0m 3ms/step - loss: 0.3745 - val_loss: 0.4841\n",
            "Epoch 56/100\n",
            "\u001b[1m123/123\u001b[0m \u001b[32m━━━━━━━━━━━━━━━━━━━━\u001b[0m\u001b[37m\u001b[0m \u001b[1m1s\u001b[0m 3ms/step - loss: 0.3743 - val_loss: 0.4922\n",
            "Epoch 57/100\n",
            "\u001b[1m123/123\u001b[0m \u001b[32m━━━━━━━━━━━━━━━━━━━━\u001b[0m\u001b[37m\u001b[0m \u001b[1m0s\u001b[0m 4ms/step - loss: 0.3639 - val_loss: 0.4835\n",
            "Epoch 58/100\n",
            "\u001b[1m123/123\u001b[0m \u001b[32m━━━━━━━━━━━━━━━━━━━━\u001b[0m\u001b[37m\u001b[0m \u001b[1m1s\u001b[0m 3ms/step - loss: 0.3499 - val_loss: 0.4887\n",
            "Epoch 59/100\n",
            "\u001b[1m123/123\u001b[0m \u001b[32m━━━━━━━━━━━━━━━━━━━━\u001b[0m\u001b[37m\u001b[0m \u001b[1m0s\u001b[0m 3ms/step - loss: 0.3730 - val_loss: 0.4793\n",
            "Epoch 60/100\n",
            "\u001b[1m123/123\u001b[0m \u001b[32m━━━━━━━━━━━━━━━━━━━━\u001b[0m\u001b[37m\u001b[0m \u001b[1m0s\u001b[0m 3ms/step - loss: 0.3445 - val_loss: 0.4962\n",
            "Epoch 61/100\n",
            "\u001b[1m123/123\u001b[0m \u001b[32m━━━━━━━━━━━━━━━━━━━━\u001b[0m\u001b[37m\u001b[0m \u001b[1m0s\u001b[0m 4ms/step - loss: 0.3648 - val_loss: 0.5065\n",
            "Epoch 62/100\n",
            "\u001b[1m123/123\u001b[0m \u001b[32m━━━━━━━━━━━━━━━━━━━━\u001b[0m\u001b[37m\u001b[0m \u001b[1m1s\u001b[0m 4ms/step - loss: 0.3575 - val_loss: 0.4954\n",
            "Epoch 63/100\n",
            "\u001b[1m123/123\u001b[0m \u001b[32m━━━━━━━━━━━━━━━━━━━━\u001b[0m\u001b[37m\u001b[0m \u001b[1m1s\u001b[0m 6ms/step - loss: 0.3460 - val_loss: 0.4915\n",
            "Epoch 64/100\n",
            "\u001b[1m123/123\u001b[0m \u001b[32m━━━━━━━━━━━━━━━━━━━━\u001b[0m\u001b[37m\u001b[0m \u001b[1m1s\u001b[0m 5ms/step - loss: 0.3504 - val_loss: 0.5061\n",
            "Epoch 65/100\n",
            "\u001b[1m123/123\u001b[0m \u001b[32m━━━━━━━━━━━━━━━━━━━━\u001b[0m\u001b[37m\u001b[0m \u001b[1m1s\u001b[0m 5ms/step - loss: 0.3654 - val_loss: 0.5028\n",
            "Epoch 66/100\n",
            "\u001b[1m123/123\u001b[0m \u001b[32m━━━━━━━━━━━━━━━━━━━━\u001b[0m\u001b[37m\u001b[0m \u001b[1m1s\u001b[0m 5ms/step - loss: 0.3580 - val_loss: 0.4978\n",
            "Epoch 67/100\n",
            "\u001b[1m123/123\u001b[0m \u001b[32m━━━━━━━━━━━━━━━━━━━━\u001b[0m\u001b[37m\u001b[0m \u001b[1m1s\u001b[0m 3ms/step - loss: 0.3470 - val_loss: 0.5187\n",
            "Epoch 68/100\n",
            "\u001b[1m123/123\u001b[0m \u001b[32m━━━━━━━━━━━━━━━━━━━━\u001b[0m\u001b[37m\u001b[0m \u001b[1m0s\u001b[0m 3ms/step - loss: 0.3446 - val_loss: 0.4998\n",
            "Epoch 69/100\n",
            "\u001b[1m123/123\u001b[0m \u001b[32m━━━━━━━━━━━━━━━━━━━━\u001b[0m\u001b[37m\u001b[0m \u001b[1m1s\u001b[0m 3ms/step - loss: 0.3702 - val_loss: 0.5067\n",
            "Epoch 70/100\n",
            "\u001b[1m123/123\u001b[0m \u001b[32m━━━━━━━━━━━━━━━━━━━━\u001b[0m\u001b[37m\u001b[0m \u001b[1m1s\u001b[0m 4ms/step - loss: 0.3456 - val_loss: 0.5261\n",
            "Epoch 71/100\n",
            "\u001b[1m123/123\u001b[0m \u001b[32m━━━━━━━━━━━━━━━━━━━━\u001b[0m\u001b[37m\u001b[0m \u001b[1m1s\u001b[0m 4ms/step - loss: 0.3628 - val_loss: 0.5107\n",
            "Epoch 72/100\n",
            "\u001b[1m123/123\u001b[0m \u001b[32m━━━━━━━━━━━━━━━━━━━━\u001b[0m\u001b[37m\u001b[0m \u001b[1m0s\u001b[0m 3ms/step - loss: 0.3403 - val_loss: 0.4948\n",
            "Epoch 73/100\n",
            "\u001b[1m123/123\u001b[0m \u001b[32m━━━━━━━━━━━━━━━━━━━━\u001b[0m\u001b[37m\u001b[0m \u001b[1m1s\u001b[0m 3ms/step - loss: 0.3454 - val_loss: 0.4913\n",
            "Epoch 74/100\n",
            "\u001b[1m123/123\u001b[0m \u001b[32m━━━━━━━━━━━━━━━━━━━━\u001b[0m\u001b[37m\u001b[0m \u001b[1m0s\u001b[0m 4ms/step - loss: 0.3291 - val_loss: 0.4923\n",
            "Epoch 75/100\n",
            "\u001b[1m123/123\u001b[0m \u001b[32m━━━━━━━━━━━━━━━━━━━━\u001b[0m\u001b[37m\u001b[0m \u001b[1m1s\u001b[0m 3ms/step - loss: 0.3313 - val_loss: 0.4925\n",
            "Epoch 76/100\n",
            "\u001b[1m123/123\u001b[0m \u001b[32m━━━━━━━━━━━━━━━━━━━━\u001b[0m\u001b[37m\u001b[0m \u001b[1m0s\u001b[0m 3ms/step - loss: 0.3433 - val_loss: 0.4923\n",
            "Epoch 77/100\n",
            "\u001b[1m123/123\u001b[0m \u001b[32m━━━━━━━━━━━━━━━━━━━━\u001b[0m\u001b[37m\u001b[0m \u001b[1m1s\u001b[0m 3ms/step - loss: 0.3542 - val_loss: 0.5068\n",
            "Epoch 78/100\n",
            "\u001b[1m123/123\u001b[0m \u001b[32m━━━━━━━━━━━━━━━━━━━━\u001b[0m\u001b[37m\u001b[0m \u001b[1m0s\u001b[0m 3ms/step - loss: 0.3430 - val_loss: 0.4990\n",
            "Epoch 79/100\n",
            "\u001b[1m123/123\u001b[0m \u001b[32m━━━━━━━━━━━━━━━━━━━━\u001b[0m\u001b[37m\u001b[0m \u001b[1m0s\u001b[0m 3ms/step - loss: 0.3536 - val_loss: 0.4863\n",
            "Epoch 80/100\n",
            "\u001b[1m123/123\u001b[0m \u001b[32m━━━━━━━━━━━━━━━━━━━━\u001b[0m\u001b[37m\u001b[0m \u001b[1m1s\u001b[0m 4ms/step - loss: 0.3302 - val_loss: 0.4905\n",
            "Epoch 81/100\n",
            "\u001b[1m123/123\u001b[0m \u001b[32m━━━━━━━━━━━━━━━━━━━━\u001b[0m\u001b[37m\u001b[0m \u001b[1m1s\u001b[0m 4ms/step - loss: 0.3321 - val_loss: 0.5083\n",
            "Epoch 82/100\n",
            "\u001b[1m123/123\u001b[0m \u001b[32m━━━━━━━━━━━━━━━━━━━━\u001b[0m\u001b[37m\u001b[0m \u001b[1m1s\u001b[0m 3ms/step - loss: 0.3402 - val_loss: 0.4953\n",
            "Epoch 83/100\n",
            "\u001b[1m123/123\u001b[0m \u001b[32m━━━━━━━━━━━━━━━━━━━━\u001b[0m\u001b[37m\u001b[0m \u001b[1m1s\u001b[0m 4ms/step - loss: 0.3193 - val_loss: 0.4968\n",
            "Epoch 84/100\n",
            "\u001b[1m123/123\u001b[0m \u001b[32m━━━━━━━━━━━━━━━━━━━━\u001b[0m\u001b[37m\u001b[0m \u001b[1m1s\u001b[0m 4ms/step - loss: 0.3316 - val_loss: 0.4985\n",
            "Epoch 85/100\n",
            "\u001b[1m123/123\u001b[0m \u001b[32m━━━━━━━━━━━━━━━━━━━━\u001b[0m\u001b[37m\u001b[0m \u001b[1m1s\u001b[0m 5ms/step - loss: 0.3193 - val_loss: 0.4982\n",
            "Epoch 86/100\n",
            "\u001b[1m123/123\u001b[0m \u001b[32m━━━━━━━━━━━━━━━━━━━━\u001b[0m\u001b[37m\u001b[0m \u001b[1m1s\u001b[0m 5ms/step - loss: 0.3449 - val_loss: 0.5373\n",
            "Epoch 87/100\n",
            "\u001b[1m123/123\u001b[0m \u001b[32m━━━━━━━━━━━━━━━━━━━━\u001b[0m\u001b[37m\u001b[0m \u001b[1m1s\u001b[0m 5ms/step - loss: 0.3178 - val_loss: 0.4901\n",
            "Epoch 88/100\n",
            "\u001b[1m123/123\u001b[0m \u001b[32m━━━━━━━━━━━━━━━━━━━━\u001b[0m\u001b[37m\u001b[0m \u001b[1m1s\u001b[0m 4ms/step - loss: 0.3219 - val_loss: 0.4964\n",
            "Epoch 89/100\n",
            "\u001b[1m123/123\u001b[0m \u001b[32m━━━━━━━━━━━━━━━━━━━━\u001b[0m\u001b[37m\u001b[0m \u001b[1m1s\u001b[0m 3ms/step - loss: 0.3048 - val_loss: 0.5052\n",
            "Epoch 90/100\n",
            "\u001b[1m123/123\u001b[0m \u001b[32m━━━━━━━━━━━━━━━━━━━━\u001b[0m\u001b[37m\u001b[0m \u001b[1m0s\u001b[0m 3ms/step - loss: 0.3285 - val_loss: 0.4847\n",
            "Epoch 91/100\n",
            "\u001b[1m123/123\u001b[0m \u001b[32m━━━━━━━━━━━━━━━━━━━━\u001b[0m\u001b[37m\u001b[0m \u001b[1m0s\u001b[0m 3ms/step - loss: 0.3155 - val_loss: 0.5094\n",
            "Epoch 92/100\n",
            "\u001b[1m123/123\u001b[0m \u001b[32m━━━━━━━━━━━━━━━━━━━━\u001b[0m\u001b[37m\u001b[0m \u001b[1m1s\u001b[0m 3ms/step - loss: 0.3239 - val_loss: 0.4938\n",
            "Epoch 93/100\n",
            "\u001b[1m123/123\u001b[0m \u001b[32m━━━━━━━━━━━━━━━━━━━━\u001b[0m\u001b[37m\u001b[0m \u001b[1m0s\u001b[0m 4ms/step - loss: 0.3244 - val_loss: 0.4902\n",
            "Epoch 94/100\n",
            "\u001b[1m123/123\u001b[0m \u001b[32m━━━━━━━━━━━━━━━━━━━━\u001b[0m\u001b[37m\u001b[0m \u001b[1m0s\u001b[0m 3ms/step - loss: 0.3123 - val_loss: 0.5065\n",
            "Epoch 95/100\n",
            "\u001b[1m123/123\u001b[0m \u001b[32m━━━━━━━━━━━━━━━━━━━━\u001b[0m\u001b[37m\u001b[0m \u001b[1m1s\u001b[0m 3ms/step - loss: 0.3255 - val_loss: 0.4984\n",
            "Epoch 96/100\n",
            "\u001b[1m123/123\u001b[0m \u001b[32m━━━━━━━━━━━━━━━━━━━━\u001b[0m\u001b[37m\u001b[0m \u001b[1m1s\u001b[0m 4ms/step - loss: 0.3092 - val_loss: 0.5024\n",
            "Epoch 97/100\n",
            "\u001b[1m123/123\u001b[0m \u001b[32m━━━━━━━━━━━━━━━━━━━━\u001b[0m\u001b[37m\u001b[0m \u001b[1m1s\u001b[0m 3ms/step - loss: 0.3343 - val_loss: 0.5034\n",
            "Epoch 98/100\n",
            "\u001b[1m123/123\u001b[0m \u001b[32m━━━━━━━━━━━━━━━━━━━━\u001b[0m\u001b[37m\u001b[0m \u001b[1m1s\u001b[0m 4ms/step - loss: 0.3037 - val_loss: 0.5249\n",
            "Epoch 99/100\n",
            "\u001b[1m123/123\u001b[0m \u001b[32m━━━━━━━━━━━━━━━━━━━━\u001b[0m\u001b[37m\u001b[0m \u001b[1m1s\u001b[0m 3ms/step - loss: 0.3153 - val_loss: 0.5054\n",
            "Epoch 100/100\n",
            "\u001b[1m123/123\u001b[0m \u001b[32m━━━━━━━━━━━━━━━━━━━━\u001b[0m\u001b[37m\u001b[0m \u001b[1m0s\u001b[0m 3ms/step - loss: 0.3104 - val_loss: 0.5063\n",
            "\u001b[1m31/31\u001b[0m \u001b[32m━━━━━━━━━━━━━━━━━━━━\u001b[0m\u001b[37m\u001b[0m \u001b[1m0s\u001b[0m 3ms/step\n",
            "ANN Regression Results:\n",
            "MSE: 0.5063\n",
            "RMSE: 0.7116\n",
            "R²: 0.3462\n"
          ]
        }
      ]
    }
  ]
}