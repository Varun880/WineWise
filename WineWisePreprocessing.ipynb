{
  "nbformat": 4,
  "nbformat_minor": 0,
  "metadata": {
    "colab": {
      "provenance": [],
      "mount_file_id": "1mEUU69c_aGKE5sKWnmu3_Xkz3ohhLe5J",
      "authorship_tag": "ABX9TyMj9NCPaKcwEoiys8ex1p4F",
      "include_colab_link": true
    },
    "kernelspec": {
      "name": "python3",
      "display_name": "Python 3"
    },
    "language_info": {
      "name": "python"
    }
  },
  "cells": [
    {
      "cell_type": "markdown",
      "metadata": {
        "id": "view-in-github",
        "colab_type": "text"
      },
      "source": [
        "<a href=\"https://colab.research.google.com/github/Varun880/WineWise/blob/main/WineWisePreprocessing.ipynb\" target=\"_parent\"><img src=\"https://colab.research.google.com/assets/colab-badge.svg\" alt=\"Open In Colab\"/></a>"
      ]
    },
    {
      "cell_type": "code",
      "source": [
        "from google.colab import drive\n",
        "drive.mount('/content/drive')"
      ],
      "metadata": {
        "colab": {
          "base_uri": "https://localhost:8080/"
        },
        "id": "CQ-w8BD38XpA",
        "outputId": "2e40e1c9-7e1f-4523-9d8d-13429f8f5fcd"
      },
      "execution_count": null,
      "outputs": [
        {
          "output_type": "stream",
          "name": "stdout",
          "text": [
            "Drive already mounted at /content/drive; to attempt to forcibly remount, call drive.mount(\"/content/drive\", force_remount=True).\n"
          ]
        }
      ]
    },
    {
      "cell_type": "markdown",
      "source": [
        "# Importing Libraries"
      ],
      "metadata": {
        "id": "akbfaW-sky1f"
      }
    },
    {
      "cell_type": "code",
      "execution_count": null,
      "metadata": {
        "id": "NJeILP4akqSI"
      },
      "outputs": [],
      "source": [
        "import numpy as np\n",
        "import pandas as pd\n",
        "import matplotlib.pyplot as plt"
      ]
    },
    {
      "cell_type": "markdown",
      "source": [
        "# Loading Dataset"
      ],
      "metadata": {
        "id": "AacvZRgQk6r-"
      }
    },
    {
      "cell_type": "code",
      "source": [
        "dataset = pd.read_csv('winequality-white.csv', sep=';')"
      ],
      "metadata": {
        "id": "jpzlxXcek-5O"
      },
      "execution_count": null,
      "outputs": []
    },
    {
      "cell_type": "markdown",
      "source": [
        "Creating new feature Quality_class for binary classification, 1 if >=7 else 0"
      ],
      "metadata": {
        "id": "jVu1iheLl9Dp"
      }
    },
    {
      "cell_type": "code",
      "source": [
        "dataset['quality_class'] = (dataset['quality'] > 6).astype(int)"
      ],
      "metadata": {
        "id": "AtqOL6zkl4e9"
      },
      "execution_count": null,
      "outputs": []
    },
    {
      "cell_type": "markdown",
      "source": [
        "Splitting data into features and dependent variables"
      ],
      "metadata": {
        "id": "Z5kL0toVmhq2"
      }
    },
    {
      "cell_type": "code",
      "source": [
        "X = dataset.drop(['quality','quality_class'], axis=1)\n",
        "y_reg = dataset['quality']  # for Regression\n",
        "y_clf = dataset['quality_class']  # for classification"
      ],
      "metadata": {
        "id": "msscmr22mOkg"
      },
      "execution_count": null,
      "outputs": []
    },
    {
      "cell_type": "markdown",
      "source": [
        "# Splitting Data into Train Set and Test Set"
      ],
      "metadata": {
        "id": "BhXwZkQDmnr8"
      }
    },
    {
      "cell_type": "code",
      "source": [
        "from sklearn.model_selection import train_test_split\n",
        "\n",
        "# for regression\n",
        "X_reg_train, X_reg_test, y_reg_train, y_reg_test = train_test_split(X, y_reg, test_size=0.2, random_state=1)\n",
        "\n",
        "# for classification\n",
        "X_clf_train, X_clf_test, y_clf_train, y_clf_test = train_test_split(X, y_clf, test_size=0.2, random_state=1)\n",
        "\n",
        "print('Regression - Training set shape:', X_reg_train.shape, y_reg_train.shape)\n",
        "print('Regression - Testing set shape:', X_reg_test.shape, y_reg_test.shape)\n",
        "print('Classification - Training set shape:', X_clf_train.shape, y_clf_train.shape)\n",
        "print('Classification - Testing set shape:', X_clf_test.shape, y_clf_test.shape)\n"
      ],
      "metadata": {
        "colab": {
          "base_uri": "https://localhost:8080/"
        },
        "id": "-kXpweDlmw4q",
        "outputId": "8b955484-9087-4a18-f715-698e4cb270c0"
      },
      "execution_count": null,
      "outputs": [
        {
          "output_type": "stream",
          "name": "stdout",
          "text": [
            "Regression - Training set shape: (3918, 11) (3918,)\n",
            "Regression - Testing set shape: (980, 11) (980,)\n",
            "Classification - Training set shape: (3918, 11) (3918,)\n",
            "Classification - Testing set shape: (980, 11) (980,)\n"
          ]
        }
      ]
    },
    {
      "cell_type": "markdown",
      "source": [
        "# Applying Feature Scaling"
      ],
      "metadata": {
        "id": "LNwvrcc5ryCg"
      }
    },
    {
      "cell_type": "code",
      "source": [
        "from sklearn.preprocessing import StandardScaler\n",
        "\n",
        "# classification\n",
        "sc_clf = StandardScaler()\n",
        "X_clf_train_scaled = sc_clf.fit_transform(X_clf_train)\n",
        "X_clf_test_scaled = sc_clf.transform(X_clf_test)\n",
        "\n",
        "# regression\n",
        "sc_reg = StandardScaler()\n",
        "X_reg_train_scaled = sc_reg.fit_transform(X_reg_train)\n",
        "X_reg_test_scaled = sc_reg.transform(X_reg_test)"
      ],
      "metadata": {
        "id": "XdYa8ExJqTVL"
      },
      "execution_count": null,
      "outputs": []
    },
    {
      "cell_type": "markdown",
      "source": [
        "Exporting Processed Data"
      ],
      "metadata": {
        "id": "nRGwWtuV0bWM"
      }
    },
    {
      "cell_type": "code",
      "source": [
        "data_store_location = '/content/drive/MyDrive/ColabNotebooks/Processed/'"
      ],
      "metadata": {
        "id": "3o4F6tidpH69"
      },
      "execution_count": null,
      "outputs": []
    },
    {
      "cell_type": "code",
      "source": [
        "# Clasification Data\n",
        "pd.DataFrame(X_clf_train_scaled).to_csv(data_store_location+'X_clf_train_scaled.csv', index=False)\n",
        "pd.DataFrame(X_clf_test_scaled).to_csv(data_store_location+'X_clf_test_scaled.csv', index=False)\n",
        "pd.DataFrame(X_clf_train).to_csv(data_store_location+'X_clf_train.csv', index=False)\n",
        "pd.DataFrame(X_clf_test).to_csv(data_store_location+'X_clf_test.csv', index=False)\n",
        "pd.Series(y_clf_train).to_csv(data_store_location+'y_clf_train.csv', index=False)\n",
        "pd.Series(y_clf_test).to_csv(data_store_location+'y_clf_test.csv', index=False)"
      ],
      "metadata": {
        "id": "Q3EElxKo0aqu"
      },
      "execution_count": null,
      "outputs": []
    },
    {
      "cell_type": "code",
      "source": [
        "# Regression Data\n",
        "pd.DataFrame(X_reg_train_scaled).to_csv(data_store_location+'X_reg_train_scaled.csv', index=False)\n",
        "pd.DataFrame(X_reg_test_scaled).to_csv(data_store_location+'X_reg_test_scaled.csv', index=False)\n",
        "pd.DataFrame(X_reg_train).to_csv(data_store_location+'X_reg_train.csv', index=False)\n",
        "pd.DataFrame(X_reg_test).to_csv(data_store_location+'X_reg_test.csv', index=False)\n",
        "pd.Series(y_reg_train).to_csv(data_store_location+'y_reg_train.csv', index=False)\n",
        "pd.Series(y_reg_test).to_csv(data_store_location+'y_reg_test.csv', index=False)"
      ],
      "metadata": {
        "id": "psXtDclS1v2H"
      },
      "execution_count": null,
      "outputs": []
    }
  ]
}
